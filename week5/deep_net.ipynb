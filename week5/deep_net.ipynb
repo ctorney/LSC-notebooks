{
 "cells": [
  {
   "cell_type": "code",
   "execution_count": 1,
   "metadata": {
    "colab": {},
    "colab_type": "code",
    "id": "yu7DDk4LCLew"
   },
   "outputs": [
    {
     "name": "stderr",
     "output_type": "stream",
     "text": [
      "2024-03-26 11:37:36.463134: E tensorflow/compiler/xla/stream_executor/cuda/cuda_dnn.cc:9342] Unable to register cuDNN factory: Attempting to register factory for plugin cuDNN when one has already been registered\n",
      "2024-03-26 11:37:36.463220: E tensorflow/compiler/xla/stream_executor/cuda/cuda_fft.cc:609] Unable to register cuFFT factory: Attempting to register factory for plugin cuFFT when one has already been registered\n",
      "2024-03-26 11:37:36.463254: E tensorflow/compiler/xla/stream_executor/cuda/cuda_blas.cc:1518] Unable to register cuBLAS factory: Attempting to register factory for plugin cuBLAS when one has already been registered\n",
      "2024-03-26 11:37:36.471549: I tensorflow/core/platform/cpu_feature_guard.cc:182] This TensorFlow binary is optimized to use available CPU instructions in performance-critical operations.\n",
      "To enable the following instructions: AVX2 FMA, in other operations, rebuild TensorFlow with the appropriate compiler flags.\n"
     ]
    }
   ],
   "source": [
    "import matplotlib.pyplot as plt\n",
    "import numpy as np\n",
    "import tensorflow as tf\n",
    "\n",
    "np.set_printoptions(suppress=True)"
   ]
  },
  {
   "cell_type": "markdown",
   "metadata": {
    "colab_type": "text",
    "id": "vI9KsWrng2WU"
   },
   "source": [
    "## Load the dataset and set-up the labels"
   ]
  },
  {
   "cell_type": "code",
   "execution_count": 2,
   "metadata": {
    "colab": {
     "base_uri": "https://localhost:8080/",
     "height": 52
    },
    "colab_type": "code",
    "id": "HInhZnJeFZ2h",
    "outputId": "48dd19b7-097b-470a-ecc1-af28d94dba70"
   },
   "outputs": [
    {
     "name": "stdout",
     "output_type": "stream",
     "text": [
      "Downloading data from https://www.cs.toronto.edu/~kriz/cifar-10-python.tar.gz\n",
      "170498071/170498071 [==============================] - 6s 0us/step\n"
     ]
    }
   ],
   "source": [
    "(x_train, y_train),(x_test, y_test) = tf.keras.datasets.cifar10.load_data()\n",
    "labels=['airplane','automobile','bird','cat','deer','dog','frog','horse','ship','truck']"
   ]
  },
  {
   "cell_type": "code",
   "execution_count": 3,
   "metadata": {
    "colab": {},
    "colab_type": "code",
    "id": "foZPajNGIgBy"
   },
   "outputs": [],
   "source": [
    "## Plot a random image"
   ]
  },
  {
   "cell_type": "code",
   "execution_count": 4,
   "metadata": {
    "colab": {
     "base_uri": "https://localhost:8080/",
     "height": 173
    },
    "colab_type": "code",
    "id": "-iCuMNtwITPZ",
    "outputId": "e9c7ca93-2d46-492b-b235-3618b53b7324"
   },
   "outputs": [
    {
     "name": "stderr",
     "output_type": "stream",
     "text": [
      "/tmp/ipykernel_261/502236697.py:6: DeprecationWarning: Conversion of an array with ndim > 0 to a scalar is deprecated, and will error in future. Ensure you extract a single element from your array before performing this operation. (Deprecated NumPy 1.25.)\n",
      "  plt.title((labels[int(label)]))\n"
     ]
    },
    {
     "data": {
      "image/png": "[encoded data removed]",
      "text/plain": [
       "<Figure size 200x200 with 1 Axes>"
      ]
     },
     "metadata": {},
     "output_type": "display_data"
    }
   ],
   "source": [
    "i=182\n",
    "label = y_train[i]\n",
    "image = x_train[i]\n",
    "plt.figure(figsize=(2,2))\n",
    "plt.grid(False)\n",
    "plt.title((labels[int(label)]))\n",
    "plt.imshow(image)\n",
    "plt.show()"
   ]
  },
  {
   "cell_type": "markdown",
   "metadata": {
    "colab_type": "text",
    "id": "vTjsm_hLg2Wr"
   },
   "source": [
    "## Normalise and reshape the input data"
   ]
  },
  {
   "cell_type": "code",
   "execution_count": 5,
   "metadata": {
    "colab": {},
    "colab_type": "code",
    "id": "7pmTNol-FaJb"
   },
   "outputs": [],
   "source": [
    "y_input = tf.keras.utils.to_categorical(y_train)\n",
    "x_input = (np.reshape(x_train, (x_train.shape[0], 3072)) / 255.0).astype(np.float32)"
   ]
  },
  {
   "cell_type": "markdown",
   "metadata": {
    "colab_type": "text",
    "id": "iU-Bi7MWg2W5"
   },
   "source": [
    "## Create the 2-layer neural network"
   ]
  },
  {
   "cell_type": "code",
   "execution_count": 6,
   "metadata": {
    "colab": {},
    "colab_type": "code",
    "id": "mBtDoZGqQA1k"
   },
   "outputs": [],
   "source": [
    "layer1 = tf.keras.layers.Dense(units=512, activation=tf.nn.relu)\n",
    "layer2 = tf.keras.layers.Dense(units=10,activation=tf.nn.softmax)\n",
    "def predict(x):\n",
    "    # input Layer\n",
    "    middle_layer = layer1(x)\n",
    "\n",
    "    # logits Layer\n",
    "    output_layer = layer2(middle_layer)\n",
    "    return output_layer"
   ]
  },
  {
   "cell_type": "markdown",
   "metadata": {
    "colab_type": "text",
    "id": "Q8js814Fg2XA"
   },
   "source": [
    "## Define the loss function as the cross-entropy loss"
   ]
  },
  {
   "cell_type": "code",
   "execution_count": 7,
   "metadata": {
    "colab": {},
    "colab_type": "code",
    "id": "RdHJ-4Ssg2XB"
   },
   "outputs": [],
   "source": [
    "@tf.function\n",
    "def loss(x,y):\n",
    "    y_ = predict(x)\n",
    "    cross_entropy = tf.reduce_mean(-tf.reduce_sum(y * tf.math.log(y_), axis=[1]))\n",
    "    return cross_entropy"
   ]
  },
  {
   "cell_type": "markdown",
   "metadata": {
    "colab_type": "text",
    "id": "AfmhnVOTg2XO"
   },
   "source": [
    "## Create the training routines"
   ]
  },
  {
   "cell_type": "code",
   "execution_count": 8,
   "metadata": {
    "colab": {},
    "colab_type": "code",
    "id": "lq_LxdS4NnYr"
   },
   "outputs": [
    {
     "name": "stderr",
     "output_type": "stream",
     "text": [
      "2024-03-26 11:37:51.572407: I tensorflow/core/common_runtime/gpu/gpu_device.cc:1886] Created device /job:localhost/replica:0/task:0/device:GPU:0 with 14604 MB memory:  -> device: 0, name: Tesla V100-PCIE-16GB, pci bus id: 0001:00:00.0, compute capability: 7.0\n"
     ]
    }
   ],
   "source": [
    "lr = 0.001\n",
    "train_steps = 2500\n",
    "# we'll use the Adam optimizer instead of gradient descent.\n",
    "optimizer = tf.optimizers.Adam(lr)"
   ]
  },
  {
   "cell_type": "markdown",
   "metadata": {
    "colab_type": "text",
    "id": "C0aM9zS2g2XU"
   },
   "source": [
    "## Now we run the training"
   ]
  },
  {
   "cell_type": "code",
   "execution_count": 9,
   "metadata": {
    "colab": {
     "base_uri": "https://localhost:8080/",
     "height": 451
    },
    "colab_type": "code",
    "id": "e3htpOk3Ny5o",
    "outputId": "b47dc0b5-bb33-448b-d8ab-d1c7f49ee51e"
   },
   "outputs": [
    {
     "name": "stderr",
     "output_type": "stream",
     "text": [
      "2024-03-26 11:37:52.931564: I tensorflow/tsl/platform/default/subprocess.cc:304] Start cannot spawn child process: No such file or directory\n",
      "2024-03-26 11:37:53.361731: I tensorflow/compiler/xla/service/service.cc:168] XLA service 0x5628a5b483a0 initialized for platform CUDA (this does not guarantee that XLA will be used). Devices:\n",
      "2024-03-26 11:37:53.361778: I tensorflow/compiler/xla/service/service.cc:176]   StreamExecutor device (0): Tesla V100-PCIE-16GB, Compute Capability 7.0\n",
      "2024-03-26 11:37:53.366785: I tensorflow/compiler/mlir/tensorflow/utils/dump_mlir_util.cc:269] disabling MLIR crash reproducer, set env var `MLIR_CRASH_REPRODUCER_DIRECTORY` to enable.\n",
      "2024-03-26 11:37:53.518243: I tensorflow/compiler/xla/stream_executor/cuda/cuda_dnn.cc:442] Loaded cuDNN version 8700\n",
      "2024-03-26 11:37:53.626732: I ./tensorflow/compiler/jit/device_compiler.h:186] Compiled cluster using XLA!  This line is logged at most once for the lifetime of the process.\n"
     ]
    },
    {
     "name": "stdout",
     "output_type": "stream",
     "text": [
      "Training Step:0 Loss = tf.Tensor(2.5227065, shape=(), dtype=float32)\n",
      "Training Step:100 Loss = tf.Tensor(1.7816116, shape=(), dtype=float32)\n",
      "Training Step:200 Loss = tf.Tensor(1.6430721, shape=(), dtype=float32)\n",
      "Training Step:300 Loss = tf.Tensor(1.5568709, shape=(), dtype=float32)\n",
      "Training Step:400 Loss = tf.Tensor(1.4883416, shape=(), dtype=float32)\n",
      "Training Step:500 Loss = tf.Tensor(1.4385184, shape=(), dtype=float32)\n",
      "Training Step:600 Loss = tf.Tensor(1.3914446, shape=(), dtype=float32)\n",
      "Training Step:700 Loss = tf.Tensor(1.3550853, shape=(), dtype=float32)\n",
      "Training Step:800 Loss = tf.Tensor(1.3120694, shape=(), dtype=float32)\n",
      "Training Step:900 Loss = tf.Tensor(1.2831196, shape=(), dtype=float32)\n",
      "Training Step:1000 Loss = tf.Tensor(1.2433516, shape=(), dtype=float32)\n",
      "Training Step:1100 Loss = tf.Tensor(1.2202003, shape=(), dtype=float32)\n",
      "Training Step:1200 Loss = tf.Tensor(1.1975833, shape=(), dtype=float32)\n",
      "Training Step:1300 Loss = tf.Tensor(1.1751784, shape=(), dtype=float32)\n",
      "Training Step:1400 Loss = tf.Tensor(1.1585093, shape=(), dtype=float32)\n",
      "Training Step:1500 Loss = tf.Tensor(1.1424223, shape=(), dtype=float32)\n",
      "Training Step:1600 Loss = tf.Tensor(1.1179415, shape=(), dtype=float32)\n",
      "Training Step:1700 Loss = tf.Tensor(1.0946114, shape=(), dtype=float32)\n",
      "Training Step:1800 Loss = tf.Tensor(1.0777785, shape=(), dtype=float32)\n",
      "Training Step:1900 Loss = tf.Tensor(1.0587457, shape=(), dtype=float32)\n",
      "Training Step:2000 Loss = tf.Tensor(1.046628, shape=(), dtype=float32)\n",
      "Training Step:2100 Loss = tf.Tensor(1.0310417, shape=(), dtype=float32)\n",
      "Training Step:2200 Loss = tf.Tensor(1.0238045, shape=(), dtype=float32)\n",
      "Training Step:2300 Loss = tf.Tensor(1.0024272, shape=(), dtype=float32)\n",
      "Training Step:2400 Loss = tf.Tensor(0.99642, shape=(), dtype=float32)\n"
     ]
    }
   ],
   "source": [
    "for i in range(train_steps):\n",
    "    with tf.GradientTape() as tape:\n",
    "        current_loss = loss(x_input,y_input)\n",
    "        gradients = tape.gradient(current_loss, tape.watched_variables())\n",
    "        optimizer.apply_gradients(zip(gradients, tape.watched_variables()))\n",
    "        if i%100 == 0:\n",
    "            print('Training Step:' + str(i) + ' Loss = ' + str(current_loss))\n"
   ]
  },
  {
   "cell_type": "markdown",
   "metadata": {
    "colab_type": "text",
    "id": "1h7mlvhWg2Xa"
   },
   "source": [
    "## Print out the accuracy on the training data"
   ]
  },
  {
   "cell_type": "code",
   "execution_count": 10,
   "metadata": {
    "colab": {
     "base_uri": "https://localhost:8080/",
     "height": 52
    },
    "colab_type": "code",
    "id": "IZw-f_WnN16l",
    "outputId": "02ae9130-d1dd-4d74-ff9f-adda794d167c"
   },
   "outputs": [
    {
     "name": "stdout",
     "output_type": "stream",
     "text": [
      "(50000, 10)\n",
      "train accuracy:  0.66616\n"
     ]
    }
   ],
   "source": [
    "y_prob = predict(x_input).numpy()\n",
    "\n",
    "print(y_prob.shape)\n",
    "y_pred = np.argmax(y_prob,axis=-1)\n",
    "print('train accuracy: ', np.sum(y_pred==y_train[:,0])/len(y_train))"
   ]
  },
  {
   "cell_type": "markdown",
   "metadata": {
    "colab_type": "text",
    "id": "X57lM-_sonyW"
   },
   "source": [
    "## Test on the test data"
   ]
  },
  {
   "cell_type": "code",
   "execution_count": 11,
   "metadata": {
    "colab": {
     "base_uri": "https://localhost:8080/",
     "height": 52
    },
    "colab_type": "code",
    "id": "2SCfUTGMN51i",
    "outputId": "cd06d3e9-aa51-48f2-e88a-7acaab19bc59"
   },
   "outputs": [
    {
     "name": "stdout",
     "output_type": "stream",
     "text": [
      "(10000, 10)\n",
      "test accuracy:  0.5109\n"
     ]
    }
   ],
   "source": [
    "\n",
    "## shallow should be around 0.4 accuracy\n",
    "x_test_input = (np.reshape(x_test, (x_test.shape[0], 3072)) / 255.0).astype(np.float32)\n",
    "\n",
    "y_prob = predict(x_test_input).numpy()\n",
    "\n",
    "print(y_prob.shape)\n",
    "y_pred = np.argmax(y_prob,axis=-1)\n",
    "print('test accuracy: ', np.sum(y_pred==y_test[:,0])/len(y_test))"
   ]
  },
  {
   "cell_type": "markdown",
   "metadata": {
    "colab_type": "text",
    "id": "QPvG99svg2Xp"
   },
   "source": [
    "## Plot a few images with their classification"
   ]
  },
  {
   "cell_type": "code",
   "execution_count": 12,
   "metadata": {
    "colab": {
     "base_uri": "https://localhost:8080/",
     "height": 173
    },
    "colab_type": "code",
    "id": "KsKnS8pyOH_n",
    "outputId": "08624e06-8362-4d61-c701-19a6e73df696"
   },
   "outputs": [
    {
     "name": "stderr",
     "output_type": "stream",
     "text": [
      "/tmp/ipykernel_261/459179036.py:7: DeprecationWarning: Conversion of an array with ndim > 0 to a scalar is deprecated, and will error in future. Ensure you extract a single element from your array before performing this operation. (Deprecated NumPy 1.25.)\n",
      "  plt.title('True: %s, Predicted: %s (%d%% certainty)' % (labels[int(label)],labels[y_prob[i].argmax()],100*y_prob[i,y_prob[i].argmax()]))\n"
     ]
    },
    {
     "data": {
      "image/png": "[encoded data removed]",
      "text/plain": [
       "<Figure size 200x200 with 1 Axes>"
      ]
     },
     "metadata": {},
     "output_type": "display_data"
    }
   ],
   "source": [
    "i=3\n",
    "\n",
    "label = y_test[i]\n",
    "image = x_test[i]\n",
    "plt.figure(figsize=(2,2))\n",
    "plt.grid(False)\n",
    "plt.title('True: %s, Predicted: %s (%d%% certainty)' % (labels[int(label)],labels[y_prob[i].argmax()],100*y_prob[i,y_prob[i].argmax()]))\n",
    "plt.imshow(image)\n",
    "plt.show()"
   ]
  },
  {
   "cell_type": "code",
   "execution_count": null,
   "metadata": {
    "colab": {},
    "colab_type": "code",
    "id": "IgCms7d99OG6"
   },
   "outputs": [],
   "source": []
  }
 ],
 "metadata": {
  "accelerator": "GPU",
  "colab": {
   "collapsed_sections": [],
   "name": "0_conv_net.ipynb",
   "provenance": []
  },
  "kernelspec": {
   "display_name": "Python 3 (ipykernel)",
   "language": "python",
   "name": "python3"
  },
  "language_info": {
   "codemirror_mode": {
    "name": "ipython",
    "version": 3
   },
   "file_extension": ".py",
   "mimetype": "text/x-python",
   "name": "python",
   "nbconvert_exporter": "python",
   "pygments_lexer": "ipython3",
   "version": "3.10.13"
  }
 },
 "nbformat": 4,
 "nbformat_minor": 4
}
