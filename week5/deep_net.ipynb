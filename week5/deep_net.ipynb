{
 "cells": [
  {
   "cell_type": "code",
   "execution_count": null,
   "metadata": {
    "colab": {},
    "colab_type": "code",
    "id": "yu7DDk4LCLew"
   },
   "outputs": [],
   "source": [
    "import matplotlib.pyplot as plt\n",
    "import numpy as np\n",
    "import tensorflow as tf\n",
    "\n",
    "np.set_printoptions(suppress=True)"
   ]
  },
  {
   "cell_type": "markdown",
   "metadata": {
    "colab_type": "text",
    "id": "vI9KsWrng2WU"
   },
   "source": [
    "## Load the dataset and set-up the labels"
   ]
  },
  {
   "cell_type": "code",
   "execution_count": 2,
   "metadata": {
    "colab": {
     "base_uri": "https://localhost:8080/",
     "height": 52
    },
    "colab_type": "code",
    "id": "HInhZnJeFZ2h",
    "outputId": "48dd19b7-097b-470a-ecc1-af28d94dba70"
   },
   "outputs": [
    {
     "name": "stdout",
     "output_type": "stream",
     "text": [
      "Downloading data from https://www.cs.toronto.edu/~kriz/cifar-10-python.tar.gz\n",
      "170500096/170498071 [==============================] - 6s 0us/step\n"
     ]
    }
   ],
   "source": [
    "(x_train, y_train),(x_test, y_test) = tf.keras.datasets.cifar10.load_data()\n",
    "labels=['airplane','automobile','bird','cat','deer','dog','frog','horse','ship','truck']"
   ]
  },
  {
   "cell_type": "code",
   "execution_count": null,
   "metadata": {
    "colab": {},
    "colab_type": "code",
    "id": "foZPajNGIgBy"
   },
   "outputs": [],
   "source": [
    "## Plot a random image"
   ]
  },
  {
   "cell_type": "code",
   "execution_count": 4,
   "metadata": {
    "colab": {
     "base_uri": "https://localhost:8080/",
     "height": 173
    },
    "colab_type": "code",
    "id": "-iCuMNtwITPZ",
    "outputId": "e9c7ca93-2d46-492b-b235-3618b53b7324"
   },
   "outputs": [
    {
     "data": {
      "image/png": "[encoded data removed]",
      "text/plain": [
       "<Figure size 144x144 with 1 Axes>"
      ]
     },
     "metadata": {
      "needs_background": "light",
      "tags": []
     },
     "output_type": "display_data"
    }
   ],
   "source": [
    "i=182\n",
    "label = y_train[i]\n",
    "image = x_train[i]\n",
    "plt.figure(figsize=(2,2))\n",
    "plt.grid(False)\n",
    "plt.title((labels[int(label)]))\n",
    "plt.imshow(image)\n",
    "plt.show()"
   ]
  },
  {
   "cell_type": "markdown",
   "metadata": {
    "colab_type": "text",
    "id": "vTjsm_hLg2Wr"
   },
   "source": [
    "## Normalise and reshape the input data"
   ]
  },
  {
   "cell_type": "code",
   "execution_count": null,
   "metadata": {
    "colab": {},
    "colab_type": "code",
    "id": "7pmTNol-FaJb"
   },
   "outputs": [],
   "source": [
    "y_input = tf.keras.utils.to_categorical(y_train)\n",
    "x_input = (np.reshape(x_train, (x_train.shape[0], 3072)) / 255.0).astype(np.float32)"
   ]
  },
  {
   "cell_type": "markdown",
   "metadata": {
    "colab_type": "text",
    "id": "iU-Bi7MWg2W5"
   },
   "source": [
    "## Create the 2-layer neural network"
   ]
  },
  {
   "cell_type": "code",
   "execution_count": null,
   "metadata": {
    "colab": {},
    "colab_type": "code",
    "id": "mBtDoZGqQA1k"
   },
   "outputs": [],
   "source": [
    "layer1 = tf.keras.layers.Dense(units=512, activation=tf.nn.relu)\n",
    "layer2 = tf.keras.layers.Dense(units=10,activation=tf.nn.softmax)\n",
    "def predict(x):\n",
    "    # input Layer\n",
    "    middle_layer = layer1(x)\n",
    "\n",
    "    # logits Layer\n",
    "    output_layer = layer2(middle_layer)\n",
    "    return output_layer"
   ]
  },
  {
   "cell_type": "markdown",
   "metadata": {
    "colab_type": "text",
    "id": "Q8js814Fg2XA"
   },
   "source": [
    "## Define the loss function as the cross-entropy loss"
   ]
  },
  {
   "cell_type": "code",
   "execution_count": null,
   "metadata": {
    "colab": {},
    "colab_type": "code",
    "id": "RdHJ-4Ssg2XB"
   },
   "outputs": [],
   "source": [
    "@tf.function\n",
    "def loss(x,y):\n",
    "    y_ = predict(x)\n",
    "    cross_entropy = tf.reduce_mean(-tf.reduce_sum(y * tf.math.log(y_), axis=[1]))\n",
    "    return cross_entropy"
   ]
  },
  {
   "cell_type": "markdown",
   "metadata": {
    "colab_type": "text",
    "id": "AfmhnVOTg2XO"
   },
   "source": [
    "## Create the training routines"
   ]
  },
  {
   "cell_type": "code",
   "execution_count": null,
   "metadata": {
    "colab": {},
    "colab_type": "code",
    "id": "lq_LxdS4NnYr"
   },
   "outputs": [],
   "source": [
    "lr = 0.001\n",
    "train_steps = 2500\n",
    "# we'll use the Adam optimizer instead of gradient descent.\n",
    "optimizer = tf.optimizers.Adam(lr)"
   ]
  },
  {
   "cell_type": "markdown",
   "metadata": {
    "colab_type": "text",
    "id": "C0aM9zS2g2XU"
   },
   "source": [
    "## Now we run the training"
   ]
  },
  {
   "cell_type": "code",
   "execution_count": 14,
   "metadata": {
    "colab": {
     "base_uri": "https://localhost:8080/",
     "height": 451
    },
    "colab_type": "code",
    "id": "e3htpOk3Ny5o",
    "outputId": "b47dc0b5-bb33-448b-d8ab-d1c7f49ee51e"
   },
   "outputs": [
    {
     "name": "stdout",
     "output_type": "stream",
     "text": [
      "Training Step:0 Loss = tf.Tensor(1.6787742, shape=(), dtype=float32)\n",
      "Training Step:100 Loss = tf.Tensor(1.6106625, shape=(), dtype=float32)\n",
      "Training Step:200 Loss = tf.Tensor(1.5358075, shape=(), dtype=float32)\n",
      "Training Step:300 Loss = tf.Tensor(1.479815, shape=(), dtype=float32)\n",
      "Training Step:400 Loss = tf.Tensor(1.4277787, shape=(), dtype=float32)\n",
      "Training Step:500 Loss = tf.Tensor(1.3872489, shape=(), dtype=float32)\n",
      "Training Step:600 Loss = tf.Tensor(1.3525572, shape=(), dtype=float32)\n",
      "Training Step:700 Loss = tf.Tensor(1.3234438, shape=(), dtype=float32)\n",
      "Training Step:800 Loss = tf.Tensor(1.3047277, shape=(), dtype=float32)\n",
      "Training Step:900 Loss = tf.Tensor(1.2788918, shape=(), dtype=float32)\n",
      "Training Step:1000 Loss = tf.Tensor(1.2523057, shape=(), dtype=float32)\n",
      "Training Step:1100 Loss = tf.Tensor(1.2338762, shape=(), dtype=float32)\n",
      "Training Step:1200 Loss = tf.Tensor(1.2160321, shape=(), dtype=float32)\n",
      "Training Step:1300 Loss = tf.Tensor(1.214562, shape=(), dtype=float32)\n",
      "Training Step:1400 Loss = tf.Tensor(1.1980532, shape=(), dtype=float32)\n",
      "Training Step:1500 Loss = tf.Tensor(1.1776751, shape=(), dtype=float32)\n",
      "Training Step:1600 Loss = tf.Tensor(1.1690799, shape=(), dtype=float32)\n",
      "Training Step:1700 Loss = tf.Tensor(1.1685641, shape=(), dtype=float32)\n",
      "Training Step:1800 Loss = tf.Tensor(1.1412276, shape=(), dtype=float32)\n",
      "Training Step:1900 Loss = tf.Tensor(1.1457074, shape=(), dtype=float32)\n",
      "Training Step:2000 Loss = tf.Tensor(1.1253195, shape=(), dtype=float32)\n",
      "Training Step:2100 Loss = tf.Tensor(1.1045603, shape=(), dtype=float32)\n",
      "Training Step:2200 Loss = tf.Tensor(1.1056747, shape=(), dtype=float32)\n",
      "Training Step:2300 Loss = tf.Tensor(1.097373, shape=(), dtype=float32)\n",
      "Training Step:2400 Loss = tf.Tensor(1.0861819, shape=(), dtype=float32)\n"
     ]
    }
   ],
   "source": [
    "for i in range(train_steps):\n",
    "    with tf.GradientTape() as tape:\n",
    "        current_loss = loss(x_input,y_input)\n",
    "        gradients = tape.gradient(current_loss, tape.watched_variables())\n",
    "        optimizer.apply_gradients(zip(gradients, tape.watched_variables()))\n",
    "        if i%100 == 0:\n",
    "            print('Training Step:' + str(i) + ' Loss = ' + str(current_loss))\n"
   ]
  },
  {
   "cell_type": "markdown",
   "metadata": {
    "colab_type": "text",
    "id": "1h7mlvhWg2Xa"
   },
   "source": [
    "## Print out the accuracy on the training data"
   ]
  },
  {
   "cell_type": "code",
   "execution_count": 15,
   "metadata": {
    "colab": {
     "base_uri": "https://localhost:8080/",
     "height": 52
    },
    "colab_type": "code",
    "id": "IZw-f_WnN16l",
    "outputId": "02ae9130-d1dd-4d74-ff9f-adda794d167c"
   },
   "outputs": [
    {
     "name": "stdout",
     "output_type": "stream",
     "text": [
      "(50000, 10)\n",
      "train accuracy:  0.6239\n"
     ]
    }
   ],
   "source": [
    "y_prob = predict(x_input).numpy()\n",
    "\n",
    "print(y_prob.shape)\n",
    "y_pred = np.argmax(y_prob,axis=-1)\n",
    "print('train accuracy: ', np.sum(y_pred==y_train[:,0])/len(y_train))"
   ]
  },
  {
   "cell_type": "markdown",
   "metadata": {
    "colab_type": "text",
    "id": "X57lM-_sonyW"
   },
   "source": [
    "## Test on the test data"
   ]
  },
  {
   "cell_type": "code",
   "execution_count": 16,
   "metadata": {
    "colab": {
     "base_uri": "https://localhost:8080/",
     "height": 52
    },
    "colab_type": "code",
    "id": "2SCfUTGMN51i",
    "outputId": "cd06d3e9-aa51-48f2-e88a-7acaab19bc59"
   },
   "outputs": [
    {
     "name": "stdout",
     "output_type": "stream",
     "text": [
      "(10000, 10)\n",
      "test accuracy:  0.4971\n"
     ]
    }
   ],
   "source": [
    "\n",
    "## shallow should be around 0.4 accuracy\n",
    "x_test_input = (np.reshape(x_test, (x_test.shape[0], 3072)) / 255.0).astype(np.float32)\n",
    "\n",
    "y_prob = predict(x_test_input).numpy()\n",
    "\n",
    "print(y_prob.shape)\n",
    "y_pred = np.argmax(y_prob,axis=-1)\n",
    "print('test accuracy: ', np.sum(y_pred==y_test[:,0])/len(y_test))"
   ]
  },
  {
   "cell_type": "markdown",
   "metadata": {
    "colab_type": "text",
    "id": "QPvG99svg2Xp"
   },
   "source": [
    "## Plot a few images with their classification"
   ]
  },
  {
   "cell_type": "code",
   "execution_count": 23,
   "metadata": {
    "colab": {
     "base_uri": "https://localhost:8080/",
     "height": 173
    },
    "colab_type": "code",
    "id": "KsKnS8pyOH_n",
    "outputId": "08624e06-8362-4d61-c701-19a6e73df696"
   },
   "outputs": [
    {
     "data": {
      "image/png": "[encoded data removed]",
      "text/plain": [
       "<Figure size 144x144 with 1 Axes>"
      ]
     },
     "metadata": {
      "needs_background": "light",
      "tags": []
     },
     "output_type": "display_data"
    }
   ],
   "source": [
    "i=3\n",
    "\n",
    "label = y_test[i]\n",
    "image = x_test[i]\n",
    "plt.figure(figsize=(2,2))\n",
    "plt.grid(False)\n",
    "plt.title('True: %s, Predicted: %s (%d%% certainty)' % (labels[int(label)],labels[y_prob[i].argmax()],100*y_prob[i,y_prob[i].argmax()]))\n",
    "plt.imshow(image)\n",
    "plt.show()"
   ]
  },
  {
   "cell_type": "code",
   "execution_count": null,
   "metadata": {
    "colab": {},
    "colab_type": "code",
    "id": "IgCms7d99OG6"
   },
   "outputs": [],
   "source": []
  }
 ],
 "metadata": {
  "accelerator": "GPU",
  "colab": {
   "collapsed_sections": [],
   "name": "0_conv_net.ipynb",
   "provenance": []
  },
  "kernelspec": {
   "display_name": "Python 3 (ipykernel)",
   "language": "python",
   "name": "python3"
  },
  "language_info": {
   "codemirror_mode": {
    "name": "ipython",
    "version": 3
   },
   "file_extension": ".py",
   "mimetype": "text/x-python",
   "name": "python",
   "nbconvert_exporter": "python",
   "pygments_lexer": "ipython3",
   "version": "3.8.16"
  }
 },
 "nbformat": 4,
 "nbformat_minor": 4
}
