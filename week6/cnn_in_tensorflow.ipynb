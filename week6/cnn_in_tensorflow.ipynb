{
 "cells": [
  {
   "cell_type": "code",
   "execution_count": null,
   "metadata": {
    "colab": {},
    "colab_type": "code",
    "id": "Z-r_tI-3IhsP"
   },
   "outputs": [],
   "source": [
    "import matplotlib.pyplot as plt\n",
    "import numpy as np\n",
    "import tensorflow as tf\n",
    "\n",
    "np.set_printoptions(suppress=True)"
   ]
  },
  {
   "cell_type": "markdown",
   "metadata": {
    "colab_type": "text",
    "id": "UuF0n9ZQFyH2"
   },
   "source": [
    "## Load the cifar dataset"
   ]
  },
  {
   "cell_type": "code",
   "execution_count": 2,
   "metadata": {
    "colab": {
     "base_uri": "https://localhost:8080/",
     "height": 52
    },
    "colab_type": "code",
    "id": "jNeH_uKFIled",
    "outputId": "99079720-23fc-4380-9ebd-50a45eca973b"
   },
   "outputs": [
    {
     "name": "stdout",
     "output_type": "stream",
     "text": [
      "Downloading data from https://www.cs.toronto.edu/~kriz/cifar-10-python.tar.gz\n",
      "170500096/170498071 [==============================] - 11s 0us/step\n"
     ]
    }
   ],
   "source": [
    "(x_train, y_train),(x_test, y_test) = tf.keras.datasets.cifar10.load_data()\n",
    "labels=['airplane','automobile','bird','cat','deer','dog','frog','horse','ship','truck']"
   ]
  },
  {
   "cell_type": "markdown",
   "metadata": {
    "colab_type": "text",
    "id": "Bk9Q8IcPGCbO"
   },
   "source": [
    "## Normalize the inputs and reshape the labels"
   ]
  },
  {
   "cell_type": "code",
   "execution_count": null,
   "metadata": {
    "colab": {},
    "colab_type": "code",
    "id": "1ptMZDWdInrO"
   },
   "outputs": [],
   "source": [
    "y_input = tf.keras.utils.to_categorical(y_train[:10000])\n",
    "x_input = (x_train[:10000]  / 255.0).astype(np.float32)\n"
   ]
  },
  {
   "cell_type": "markdown",
   "metadata": {
    "colab_type": "text",
    "id": "bp_HciV2GVLG"
   },
   "source": [
    "## Now we'll build the convolutional layer"
   ]
  },
  {
   "cell_type": "code",
   "execution_count": null,
   "metadata": {
    "colab": {},
    "colab_type": "code",
    "id": "-z90d3mTIsAO"
   },
   "outputs": [],
   "source": [
    "\n",
    "conv_layer = tf.keras.layers.Conv2D(filters=16, kernel_size=(3,3),activation=tf.nn.relu,padding='same')\n",
    "flat_layer = tf.keras.layers.Flatten()\n",
    "dense_layer = tf.keras.layers.Dense(units=512, activation=tf.nn.relu)\n",
    "logits_layer = tf.keras.layers.Dense(units=10,activation=tf.nn.softmax)\n",
    "\n",
    "def predict(x):\n",
    "    # input Layer\n",
    "    x = conv_layer(x)\n",
    "    x = flat_layer(x)\n",
    "    x = dense_layer(x)\n",
    "    output_layer = logits_layer(x)    \n",
    "    return output_layer\n",
    "\n"
   ]
  },
  {
   "cell_type": "markdown",
   "metadata": {
    "colab_type": "text",
    "id": "7821RL9mGcJL"
   },
   "source": [
    "## Create the loss"
   ]
  },
  {
   "cell_type": "code",
   "execution_count": null,
   "metadata": {
    "colab": {},
    "colab_type": "code",
    "id": "vwwXUY71I7PR"
   },
   "outputs": [],
   "source": [
    "@tf.function\n",
    "def loss(x,y):\n",
    "    y_ = predict(x)\n",
    "    cross_entropy = tf.reduce_mean(-tf.reduce_sum(y * tf.math.log(y_), axis=[1]))\n",
    "    return cross_entropy"
   ]
  },
  {
   "cell_type": "markdown",
   "metadata": {
    "colab_type": "text",
    "id": "WozuwZz8GgS8"
   },
   "source": [
    "## Set up the training parameters"
   ]
  },
  {
   "cell_type": "code",
   "execution_count": null,
   "metadata": {
    "colab": {},
    "colab_type": "code",
    "id": "qAvKjNfOI7lm"
   },
   "outputs": [],
   "source": [
    "lr = 0.0001\n",
    "train_steps = 500\n",
    "# we'll use the Adam optimizer instead of gradient descent.\n",
    "optimizer = tf.optimizers.Adam(lr)"
   ]
  },
  {
   "cell_type": "markdown",
   "metadata": {
    "colab_type": "text",
    "id": "jLEGv0krGk_i"
   },
   "source": [
    "## Create a session and run the training"
   ]
  },
  {
   "cell_type": "code",
   "execution_count": 20,
   "metadata": {
    "colab": {
     "base_uri": "https://localhost:8080/",
     "height": 104
    },
    "colab_type": "code",
    "id": "znLTkQ4mI903",
    "outputId": "5fee38ac-1ec0-4e7e-b40d-cc4ff8b74de9"
   },
   "outputs": [
    {
     "name": "stdout",
     "output_type": "stream",
     "text": [
      "Training Step:0 Loss = tf.Tensor(2.321, shape=(), dtype=float32)\n",
      "Training Step:100 Loss = tf.Tensor(1.2607883, shape=(), dtype=float32)\n",
      "Training Step:200 Loss = tf.Tensor(0.8422252, shape=(), dtype=float32)\n",
      "Training Step:300 Loss = tf.Tensor(0.6011298, shape=(), dtype=float32)\n",
      "Training Step:400 Loss = tf.Tensor(0.4391249, shape=(), dtype=float32)\n"
     ]
    }
   ],
   "source": [
    "for i in range(train_steps):\n",
    "    with tf.GradientTape() as tape:\n",
    "        current_loss = loss(x_input,y_input)\n",
    "        gradients = tape.gradient(current_loss, tape.watched_variables())\n",
    "        optimizer.apply_gradients(zip(gradients, tape.watched_variables()))\n",
    "        if i%100 == 0:\n",
    "            print('Training Step:' + str(i) + ' Loss = ' + str(current_loss))"
   ]
  },
  {
   "cell_type": "code",
   "execution_count": 22,
   "metadata": {
    "colab": {
     "base_uri": "https://localhost:8080/",
     "height": 52
    },
    "colab_type": "code",
    "id": "1hPDDdE_JCSV",
    "outputId": "3940fabc-6dca-4eae-993f-3fa60334892a"
   },
   "outputs": [
    {
     "name": "stdout",
     "output_type": "stream",
     "text": [
      "(10000, 10)\n",
      "train accuracy:  0.5249\n"
     ]
    }
   ],
   "source": [
    "x_test_input = (x_test  / 255.0).astype(np.float32)\n",
    "\n",
    "y_prob = predict(x_test_input).numpy()\n",
    "\n",
    "print(y_prob.shape)\n",
    "y_pred = np.argmax(y_prob,axis=-1)\n",
    "print('train accuracy: ', np.sum(y_pred==y_test[:,0])/len(y_test))"
   ]
  },
  {
   "cell_type": "code",
   "execution_count": 23,
   "metadata": {
    "colab": {
     "base_uri": "https://localhost:8080/",
     "height": 173
    },
    "colab_type": "code",
    "id": "Nw_ybWyQJS5k",
    "outputId": "aaa1c971-0a7b-4607-a74d-4a2ba49eaf80"
   },
   "outputs": [
    {
     "data": {
      "image/png": "[encoded data removed]",
      "text/plain": [
       "<Figure size 144x144 with 1 Axes>"
      ]
     },
     "metadata": {
      "needs_background": "light",
      "tags": []
     },
     "output_type": "display_data"
    }
   ],
   "source": [
    "i=840\n",
    "\n",
    "label = y_test[i]\n",
    "image = x_test[i]\n",
    "plt.figure(figsize=(2,2))\n",
    "plt.grid(False)\n",
    "plt.title('True: %s, Predicted: %s (%d%% certainty)' % (labels[int(label)],labels[y_prob[i].argmax()],100*y_prob[i,y_prob[i].argmax()]))\n",
    "plt.imshow(image)\n",
    "plt.show()"
   ]
  },
  {
   "cell_type": "code",
   "execution_count": null,
   "metadata": {
    "colab": {},
    "colab_type": "code",
    "id": "4S9w9fOsJW6n"
   },
   "outputs": [],
   "source": []
  }
 ],
 "metadata": {
  "accelerator": "GPU",
  "colab": {
   "collapsed_sections": [],
   "name": "cnn_in_tensorflow.ipynb",
   "provenance": []
  },
  "kernelspec": {
   "display_name": "Python 3 (ipykernel)",
   "language": "python",
   "name": "python3"
  },
  "language_info": {
   "codemirror_mode": {
    "name": "ipython",
    "version": 3
   },
   "file_extension": ".py",
   "mimetype": "text/x-python",
   "name": "python",
   "nbconvert_exporter": "python",
   "pygments_lexer": "ipython3",
   "version": "3.9.10"
  }
 },
 "nbformat": 4,
 "nbformat_minor": 4
}
