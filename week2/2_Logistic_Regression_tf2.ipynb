{
  "nbformat": 4,
  "nbformat_minor": 0,
  "metadata": {
    "colab": {
      "name": "2_Logistic_Regression_tf2.ipynb",
      "provenance": []
    },
    "kernelspec": {
      "name": "python3",
      "display_name": "Python 3"
    }
  },
  "cells": [
    {
      "cell_type": "code",
      "metadata": {
        "id": "ViZX5SoZC9Mu",
        "colab_type": "code",
        "colab": {}
      },
      "source": [
        "import tensorflow as tf \n",
        "\n",
        "import numpy as np \n",
        "import matplotlib.pyplot as plt \n",
        "from IPython import display\n",
        "\n",
        "plt.style.use('ggplot')\n",
        "np.random.seed(0)"
      ],
      "execution_count": 0,
      "outputs": []
    },
    {
      "cell_type": "markdown",
      "metadata": {
        "id": "lLUEfsP2GPUZ",
        "colab_type": "text"
      },
      "source": [
        ""
      ]
    },
    {
      "cell_type": "markdown",
      "metadata": {
        "id": "FqVXnoKkDAcr",
        "colab_type": "text"
      },
      "source": [
        "## Enter the data into numpy arrays\n"
      ]
    },
    {
      "cell_type": "code",
      "metadata": {
        "id": "ri59PhK2DA4z",
        "colab_type": "code",
        "colab": {}
      },
      "source": [
        "hours= np.array([0.50,0.75,1.00,1.25,1.50,1.75,1.75,2.00,\n",
        "                 2.25,2.50,2.75,3.00,3.25,3.50,4.00,4.25,4.50,4.75,5.00,5.50])\n",
        "failpass=np.array([0,0,0,0,0,0,1,0,1,0,1,0,1,0,1,1,1,1,1,1])"
      ],
      "execution_count": 0,
      "outputs": []
    },
    {
      "cell_type": "markdown",
      "metadata": {
        "id": "i2uC7wpGDEc_",
        "colab_type": "text"
      },
      "source": [
        "## Plot of the raw data"
      ]
    },
    {
      "cell_type": "code",
      "metadata": {
        "id": "6ON4sm17DEzs",
        "colab_type": "code",
        "colab": {
          "base_uri": "https://localhost:8080/",
          "height": 265
        },
        "outputId": "1efe6c80-09d3-47b6-92e5-8a363d457507"
      },
      "source": [
        "plt.plot(hours,failpass,'.')\n",
        "plt.show()"
      ],
      "execution_count": 3,
      "outputs": [
        {
          "output_type": "display_data",
          "data": {
            "image/png": "[encoded data removed]",
            "text/plain": [
              "<Figure size 432x288 with 1 Axes>"
            ]
          },
          "metadata": {
            "tags": [],
            "needs_background": "light"
          }
        }
      ]
    },
    {
      "cell_type": "markdown",
      "metadata": {
        "id": "96r0qojhDS9v",
        "colab_type": "text"
      },
      "source": [
        "### Create the variables we're going to train\n"
      ]
    },
    {
      "cell_type": "code",
      "metadata": {
        "id": "bWr2Qj7fDTrU",
        "colab_type": "code",
        "colab": {}
      },
      "source": [
        "b0 = tf.Variable(0.0)\n",
        "b1 = tf.Variable(0.0)"
      ],
      "execution_count": 0,
      "outputs": []
    },
    {
      "cell_type": "markdown",
      "metadata": {
        "id": "3WCX6dqSDYGb",
        "colab_type": "text"
      },
      "source": [
        "## Create the logistic regression model and a cross entropy loss tensor\n"
      ]
    },
    {
      "cell_type": "code",
      "metadata": {
        "id": "q6reMpo7DbUQ",
        "colab_type": "code",
        "colab": {}
      },
      "source": [
        "def Y_pred(X):\n",
        "  return tf.sigmoid(tf.add(tf.multiply(X, b1), b0))\n",
        "\n",
        "optimizer = tf.keras.optimizers.Adam(lr=0.1)\n",
        "\n",
        "def loss(Y, Y_pred):\n",
        "  return -tf.reduce_sum(Y*tf.math.log(Y_pred))-tf.reduce_sum((1.0-Y)*tf.math.log(1.0-Y_pred))"
      ],
      "execution_count": 0,
      "outputs": []
    },
    {
      "cell_type": "markdown",
      "metadata": {
        "id": "uh3CY9xUDvvV",
        "colab_type": "text"
      },
      "source": [
        "### Set up Tensorflow training loop"
      ]
    },
    {
      "cell_type": "code",
      "metadata": {
        "id": "rC13LgAVDzzh",
        "colab_type": "code",
        "colab": {}
      },
      "source": [
        "def train(x, y):\n",
        "    with tf.GradientTape() as tape:\n",
        "        predicted = Y_pred(x)   \n",
        "        current_loss = loss(y, predicted)\n",
        "        gradients = tape.gradient(current_loss, [b1, b0])\n",
        "        optimizer.apply_gradients(zip(gradients, [b1 ,b0]))\n",
        "    return b1, b0, predicted, current_loss"
      ],
      "execution_count": 0,
      "outputs": []
    },
    {
      "cell_type": "markdown",
      "metadata": {
        "id": "LEPE2Y5GD9vm",
        "colab_type": "text"
      },
      "source": [
        "### Use the training loop to train on the dataset"
      ]
    },
    {
      "cell_type": "code",
      "metadata": {
        "id": "r4EKeb0WD-Dp",
        "colab_type": "code",
        "colab": {
          "base_uri": "https://localhost:8080/",
          "height": 282
        },
        "outputId": "5735fe7f-5610-4651-a23d-62ecf0cf1d53"
      },
      "source": [
        "epochs = range(50)\n",
        "for epoch in epochs:\n",
        "\n",
        "  slope, intercept, pred, training_loss = train(hours, failpass)\n",
        "\n",
        "  plt.clf()    \n",
        "  plt.plot(hours,failpass, 'o', label ='Original data') \n",
        "  plt.plot(hours, pred, label ='Fitted line') \n",
        "  plt.title('Epoch {} '.format((epoch + 1)))\n",
        "  display.display(plt.gcf())\n",
        "  display.clear_output(wait=True) "
      ],
      "execution_count": 7,
      "outputs": [
        {
          "output_type": "display_data",
          "data": {
            "image/png": "[encoded data removed]",
            "text/plain": [
              "<Figure size 432x288 with 1 Axes>"
            ]
          },
          "metadata": {
            "tags": [],
            "needs_background": "light"
          }
        }
      ]
    },
    {
      "cell_type": "markdown",
      "metadata": {
        "id": "U-qV-KkvFQzv",
        "colab_type": "text"
      },
      "source": [
        "## Now we'll run the proper training for 500 epochs\n"
      ]
    },
    {
      "cell_type": "code",
      "metadata": {
        "id": "0nMVqAENFRp4",
        "colab_type": "code",
        "colab": {}
      },
      "source": [
        "epochs = range(500)\n",
        "for epoch in epochs:\n",
        "\n",
        "  slope, intercept, pred, training_loss = train(hours, failpass)"
      ],
      "execution_count": 0,
      "outputs": []
    },
    {
      "cell_type": "markdown",
      "metadata": {
        "id": "V_5cuz3tFdMa",
        "colab_type": "text"
      },
      "source": [
        "## Plot of our final estimates of the parameters"
      ]
    },
    {
      "cell_type": "code",
      "metadata": {
        "id": "i0t2v1nWFeEx",
        "colab_type": "code",
        "colab": {
          "base_uri": "https://localhost:8080/",
          "height": 317
        },
        "outputId": "db4660a7-c6cb-41e8-e2df-1cd3166c56c9"
      },
      "source": [
        "print(\"slope =\", slope, \"intercept =\", intercept) \n",
        "\n",
        "plt.plot(hours,failpass, 'o', label ='Original data') \n",
        "plt.plot(hours, pred, label ='Fitted line') \n",
        "\n",
        "plt.title('Probability of passing exam')\n",
        "plt.xlabel('Hours studied')\n",
        "plt.ylabel('Probability to pass')\n",
        "plt.show()"
      ],
      "execution_count": 9,
      "outputs": [
        {
          "output_type": "stream",
          "text": [
            "slope = <tf.Variable 'Variable:0' shape=() dtype=float32, numpy=1.504645> intercept = <tf.Variable 'Variable:0' shape=() dtype=float32, numpy=-4.0777125>\n"
          ],
          "name": "stdout"
        },
        {
          "output_type": "display_data",
          "data": {
            "image/png": "[encoded data removed]",
            "text/plain": [
              "<Figure size 432x288 with 1 Axes>"
            ]
          },
          "metadata": {
            "tags": [],
            "needs_background": "light"
          }
        }
      ]
    }
  ]
}