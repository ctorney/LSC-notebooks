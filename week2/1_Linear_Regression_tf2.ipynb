{
  "nbformat": 4,
  "nbformat_minor": 0,
  "metadata": {
    "colab": {
      "name": "1_Linear_Regression_tf2.ipynb",
      "provenance": []
    },
    "kernelspec": {
      "name": "python3",
      "display_name": "Python 3"
    }
  },
  "cells": [
    {
      "cell_type": "markdown",
      "metadata": {
        "id": "9Ic8FLGTrtoZ",
        "colab_type": "text"
      },
      "source": [
        "### First we'll import the necessary libraries"
      ]
    },
    {
      "cell_type": "code",
      "metadata": {
        "id": "RndrPK-wrgZh",
        "colab_type": "code",
        "colab": {}
      },
      "source": [
        "import tensorflow as tf \n",
        "\n",
        "import numpy as np \n",
        "import matplotlib.pyplot as plt \n",
        "from IPython import display\n",
        "\n",
        "plt.style.use('ggplot')\n",
        "np.random.seed(0)"
      ],
      "execution_count": 0,
      "outputs": []
    },
    {
      "cell_type": "markdown",
      "metadata": {
        "id": "nBGncvWhr24Q",
        "colab_type": "text"
      },
      "source": [
        "### Create some data to play with"
      ]
    },
    {
      "cell_type": "code",
      "metadata": {
        "id": "0oSzVevor0SY",
        "colab_type": "code",
        "colab": {}
      },
      "source": [
        "# create N data points\n",
        "N = 50\n",
        "\n",
        "xdata = np.linspace(0, 5, N) \n",
        "\n",
        "beta0=2\n",
        "beta1=2\n",
        "epsilon = 1\n",
        "ydata= beta0 + beta1*xdata + epsilon*np.random.normal(size=N)\n"
      ],
      "execution_count": 0,
      "outputs": []
    },
    {
      "cell_type": "code",
      "metadata": {
        "id": "pCkUaxrdr5Ed",
        "colab_type": "code",
        "outputId": "1ded525d-48bc-4296-a580-4df7a924dd06",
        "colab": {
          "base_uri": "https://localhost:8080/",
          "height": 299
        }
      },
      "source": [
        "# Plot of Training Data \n",
        "plt.plot(xdata, ydata,'*-') \n",
        "plt.xlabel('x') \n",
        "plt.ylabel('y') \n",
        "plt.ylim(0,16)\n",
        "plt.title(\"Training Data\") \n",
        "plt.show() \n"
      ],
      "execution_count": 0,
      "outputs": [
        {
          "output_type": "display_data",
          "data": {
            "image/png": "[encoded data removed]",
            "text/plain": [
              "<Figure size 432x288 with 1 Axes>"
            ]
          },
          "metadata": {
            "tags": [],
            "needs_background": "light"
          }
        }
      ]
    },
    {
      "cell_type": "markdown",
      "metadata": {
        "id": "tgy_J_0Sr9gE",
        "colab_type": "text"
      },
      "source": [
        "### Use TensorFlow to perform linear regression, assuming the relationship between $x$ and $y$ is\n",
        "$y = \\beta_0 + \\beta_1 x + \\epsilon$"
      ]
    },
    {
      "cell_type": "markdown",
      "metadata": {
        "id": "RBCSu4RbsJp-",
        "colab_type": "text"
      },
      "source": [
        "### Create the variables we're going to train\n",
        "\n"
      ]
    },
    {
      "cell_type": "code",
      "metadata": {
        "id": "ehqtxuH5r9Ps",
        "colab_type": "code",
        "colab": {}
      },
      "source": [
        "b0 = tf.Variable(0.4)\n",
        "b1 = tf.Variable(0.1)"
      ],
      "execution_count": 0,
      "outputs": []
    },
    {
      "cell_type": "markdown",
      "metadata": {
        "id": "GOnbfmDHsYIi",
        "colab_type": "text"
      },
      "source": [
        "### Define our statistical model"
      ]
    },
    {
      "cell_type": "code",
      "metadata": {
        "id": "N3LrlRvYsX0t",
        "colab_type": "code",
        "colab": {}
      },
      "source": [
        "def LinearModel(x):\n",
        "   return tf.add(tf.multiply(x, b1), b0)"
      ],
      "execution_count": 0,
      "outputs": []
    },
    {
      "cell_type": "markdown",
      "metadata": {
        "id": "Taf7SQj7s7kk",
        "colab_type": "text"
      },
      "source": [
        "### Define our loss function as the mean of the squared differences between the observed $y$ and the prediction"
      ]
    },
    {
      "cell_type": "code",
      "metadata": {
        "id": "edzdnhY0s8Fn",
        "colab_type": "code",
        "colab": {}
      },
      "source": [
        "optimizer = tf.keras.optimizers.Adam(lr=0.1)\n",
        "\n",
        "def loss(y, pred):\n",
        "    return tf.reduce_mean(tf.square(y - pred))"
      ],
      "execution_count": 0,
      "outputs": []
    },
    {
      "cell_type": "markdown",
      "metadata": {
        "id": "7RZ6LGGWtBSo",
        "colab_type": "text"
      },
      "source": [
        "### Set up Tensorflow training loop"
      ]
    },
    {
      "cell_type": "code",
      "metadata": {
        "id": "0cPH7G_OtMDc",
        "colab_type": "code",
        "colab": {}
      },
      "source": [
        "def train(x, y):\n",
        "    with tf.GradientTape() as tape:\n",
        "        predicted = LinearModel(x)   \n",
        "        current_loss = loss(y, predicted)\n",
        "        gradients = tape.gradient(current_loss, [b1, b0])\n",
        "        optimizer.apply_gradients(zip(gradients, [b1 ,b0]))\n",
        "    return b1, b0, predicted, current_loss"
      ],
      "execution_count": 0,
      "outputs": []
    },
    {
      "cell_type": "markdown",
      "metadata": {
        "id": "WeZMQvhGvdhb",
        "colab_type": "text"
      },
      "source": [
        "### Use the training loop to train on the dataset"
      ]
    },
    {
      "cell_type": "code",
      "metadata": {
        "id": "GVxfz8hZviry",
        "colab_type": "code",
        "outputId": "3aa52c45-829f-43ca-c08f-61991b60b815",
        "colab": {
          "base_uri": "https://localhost:8080/",
          "height": 282
        }
      },
      "source": [
        "epochs = range(150)\n",
        "for epoch in epochs:\n",
        "\n",
        "  slope, intercept, pred, training_loss = train(xdata, ydata)\n",
        "\n",
        "  plt.clf()    \n",
        "  plt.plot(xdata, ydata, 'o', label ='Original data') \n",
        "  plt.plot(xdata, pred, label ='Fitted line') \n",
        "  #plt.title('Epoch {} loss {:.4f} slope {:.4f} intercept {:.4f} '.format((epoch + 1), training_loss, slope, intercept))\n",
        "  plt.title('Epoch=%3d loss=%.4f slope=%.4f intercept=%.4f ' % ((epoch + 1), training_loss, slope, intercept))\n",
        "  \n",
        "  display.display(plt.gcf())\n",
        "  display.clear_output(wait=True)\n",
        "\n"
      ],
      "execution_count": 0,
      "outputs": [
        {
          "output_type": "display_data",
          "data": {
            "image/png": "[encoded data removed]",
            "text/plain": [
              "<Figure size 432x288 with 1 Axes>"
            ]
          },
          "metadata": {
            "tags": [],
            "needs_background": "light"
          }
        }
      ]
    },
    {
      "cell_type": "code",
      "metadata": {
        "id": "KT0swSmz_pX5",
        "colab_type": "code",
        "outputId": "1d77ad3a-93f0-468e-9a07-40dd023b3deb",
        "colab": {
          "base_uri": "https://localhost:8080/",
          "height": 72
        }
      },
      "source": [
        "# Calculating the predictions \n",
        "predictions = slope * xdata + intercept \n",
        "print(\"Training loss =\", training_loss, \"slope =\", slope, \"intercept =\", intercept, '\\n') "
      ],
      "execution_count": 0,
      "outputs": [
        {
          "output_type": "stream",
          "text": [
            "Training loss = tf.Tensor(1.0946648, shape=(), dtype=float32) slope = <tf.Variable 'Variable:0' shape=() dtype=float32, numpy=1.7338427> intercept = <tf.Variable 'Variable:0' shape=() dtype=float32, numpy=2.795873> \n",
            "\n"
          ],
          "name": "stdout"
        }
      ]
    },
    {
      "cell_type": "code",
      "metadata": {
        "id": "HHb5xYKB_30b",
        "colab_type": "code",
        "outputId": "c99ffc06-d593-42dd-8cd6-3484ec2417cb",
        "colab": {
          "base_uri": "https://localhost:8080/",
          "height": 282
        }
      },
      "source": [
        "# Plotting the Results \n",
        "plt.plot(xdata, ydata, 'o', label ='Original data') \n",
        "plt.plot(xdata, predictions, label ='Fitted line') \n",
        "plt.title('Linear Regression Result') \n",
        "plt.legend() \n",
        "#plt.axis([-10,110,0,250])\n",
        "plt.show() "
      ],
      "execution_count": 0,
      "outputs": [
        {
          "output_type": "display_data",
          "data": {
            "image/png": "[encoded data removed]",
            "text/plain": [
              "<Figure size 432x288 with 1 Axes>"
            ]
          },
          "metadata": {
            "tags": [],
            "needs_background": "light"
          }
        }
      ]
    }
  ]
}