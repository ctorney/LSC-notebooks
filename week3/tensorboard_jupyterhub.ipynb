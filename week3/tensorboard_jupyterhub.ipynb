{
 "cells": [
  {
   "cell_type": "code",
   "execution_count": 1,
   "id": "6a49ef68",
   "metadata": {
    "tags": []
   },
   "outputs": [],
   "source": [
    "import matplotlib.pyplot as plt\n",
    "import numpy as np\n",
    "import tensorflow as tf\n",
    "from tqdm.notebook import tqdm\n",
    "np.set_printoptions(suppress=True)\n",
    "\n",
    "(x_train, y_train),(x_test, y_test) = tf.keras.datasets.mnist.load_data()\n",
    "\n",
    "y_input = tf.keras.utils.to_categorical(y_train)\n",
    "x_input = (np.reshape(x_train, (x_train.shape[0], 784)) / 255.0).astype(np.float32)"
   ]
  },
  {
   "cell_type": "code",
   "execution_count": 2,
   "id": "b1ee6112",
   "metadata": {
    "tags": []
   },
   "outputs": [
    {
     "name": "stderr",
     "output_type": "stream",
     "text": [
      "2023-05-18 08:09:45.448950: I tensorflow/core/platform/cpu_feature_guard.cc:151] This TensorFlow binary is optimized with oneAPI Deep Neural Network Library (oneDNN) to use the following CPU instructions in performance-critical operations:  AVX2 FMA\n",
      "To enable them in other operations, rebuild TensorFlow with the appropriate compiler flags.\n",
      "2023-05-18 08:09:46.024576: I tensorflow/core/common_runtime/gpu/gpu_device.cc:1525] Created device /job:localhost/replica:0/task:0/device:GPU:0 with 10794 MB memory:  -> device: 0, name: Tesla K80, pci bus id: 0001:00:00.0, compute capability: 3.7\n"
     ]
    }
   ],
   "source": [
    "W = tf.Variable(tf.zeros([784,10]),name='W')\n",
    "b = tf.Variable(tf.zeros([10]),name='b')\n",
    "\n",
    "# predicted probability for each class\n",
    "def y_pred(x):\n",
    "    return tf.nn.softmax(tf.matmul(x,W) + b)\n",
    "\n",
    "# cross entropy loss function\n",
    "@tf.function\n",
    "def loss(x,y):\n",
    "    y_ = y_pred(x)\n",
    "    return tf.reduce_mean(-tf.reduce_sum(y * tf.math.log(y_), axis=[1]))\n",
    "\n"
   ]
  },
  {
   "cell_type": "code",
   "execution_count": 8,
   "id": "fd3596cf",
   "metadata": {
    "tags": []
   },
   "outputs": [],
   "source": [
    "# Set up logging.\n",
    "logdir = '/home/jovyan/logs/may-18'\n",
    "writer = tf.summary.create_file_writer(logdir)\n",
    "\n",
    "\n",
    "# Bracket the function call with trace_on and trace_export\n",
    "\n",
    "tf.summary.trace_on()\n",
    "# Call only one tf.function when tracing.\n",
    "z = loss(x_input, y_input)\n",
    "with writer.as_default():\n",
    "    tf.summary.trace_export(name='graph',step=0)\n"
   ]
  },
  {
   "cell_type": "code",
   "execution_count": 4,
   "id": "a77a141c",
   "metadata": {
    "tags": []
   },
   "outputs": [],
   "source": [
    "# now add in the training bits of the graph\n",
    "\n",
    "\n",
    "train_steps = 500\n",
    "\n",
    "\n",
    "# learning rate\n",
    "lr = 1e-1\n",
    "\n",
    "# gradient descent optimizer\n",
    "optimizer = tf.optimizers.SGD(lr)\n",
    "\n"
   ]
  },
  {
   "cell_type": "code",
   "execution_count": 9,
   "id": "73980d25",
   "metadata": {
    "tags": []
   },
   "outputs": [
    {
     "data": {
      "application/vnd.jupyter.widget-view+json": {
       "model_id": "503be0259a034523a34effb713b91cf9",
       "version_major": 2,
       "version_minor": 0
      },
      "text/plain": [
       "  0%|          | 0/500 [00:00<?, ?it/s]"
      ]
     },
     "metadata": {},
     "output_type": "display_data"
    }
   ],
   "source": [
    "\n",
    "with writer.as_default():\n",
    "    for i in tqdm(range(train_steps)):\n",
    "        with tf.GradientTape() as tape:\n",
    "            current_loss = loss(x_input,y_input)\n",
    "        gradients = tape.gradient(current_loss, [W, b])\n",
    "        optimizer.apply_gradients(zip(gradients, [W ,b]))\n",
    "        tf.summary.scalar('loss', current_loss, step=i)\n",
    "\n"
   ]
  },
  {
   "cell_type": "code",
   "execution_count": 10,
   "id": "3ea36c5b-9f3e-401b-ac32-b29825e08f7a",
   "metadata": {
    "tags": []
   },
   "outputs": [],
   "source": [
    "# now add in the training bits of the graph\n",
    "\n",
    "\n",
    "train_steps = 500\n",
    "\n",
    "\n",
    "# learning rate\n",
    "lr = 1e-1\n",
    "\n",
    "# gradient descent optimizer\n",
    "optimizer = tf.optimizers.Adam(lr)\n",
    "\n",
    "W = tf.Variable(tf.zeros([784,10]),name='W')\n",
    "b = tf.Variable(tf.zeros([10]),name='b')\n",
    "\n",
    "# predicted probability for each class\n",
    "def y_pred(x):\n",
    "    return tf.nn.softmax(tf.matmul(x,W) + b)\n",
    "\n",
    "# cross entropy loss function\n",
    "@tf.function\n",
    "def loss(x,y):\n",
    "    y_ = y_pred(x)\n",
    "    return tf.reduce_mean(-tf.reduce_sum(y * tf.math.log(y_), axis=[1]))"
   ]
  },
  {
   "cell_type": "code",
   "execution_count": 11,
   "id": "d25fa2a9-700d-473d-9496-768faefdf11a",
   "metadata": {
    "tags": []
   },
   "outputs": [
    {
     "data": {
      "application/vnd.jupyter.widget-view+json": {
       "model_id": "345f5b1b3baf4927a54f452c83445669",
       "version_major": 2,
       "version_minor": 0
      },
      "text/plain": [
       "  0%|          | 0/500 [00:00<?, ?it/s]"
      ]
     },
     "metadata": {},
     "output_type": "display_data"
    }
   ],
   "source": [
    "\n",
    "pbar = tqdm(range(train_steps))\n",
    "with writer.as_default():\n",
    "    for i in pbar:\n",
    "        with tf.GradientTape() as tape:\n",
    "            current_loss = loss(x_input,y_input)\n",
    "        gradients = tape.gradient(current_loss, [W, b])\n",
    "        optimizer.apply_gradients(zip(gradients, [W ,b]))\n",
    "        tf.summary.scalar('lossadam', current_loss, step=i)\n",
    "        pbar.set_description_str(str(current_loss.numpy()))\n"
   ]
  },
  {
   "cell_type": "code",
   "execution_count": 13,
   "id": "ffc8edbe-d74f-46fb-a359-c81649e50199",
   "metadata": {},
   "outputs": [
    {
     "data": {
      "text/plain": [
       "\u001b[0;31mInit signature:\u001b[0m\n",
       "\u001b[0mtf\u001b[0m\u001b[0;34m.\u001b[0m\u001b[0moptimizers\u001b[0m\u001b[0;34m.\u001b[0m\u001b[0mAdam\u001b[0m\u001b[0;34m(\u001b[0m\u001b[0;34m\u001b[0m\n",
       "\u001b[0;34m\u001b[0m    \u001b[0mlearning_rate\u001b[0m\u001b[0;34m=\u001b[0m\u001b[0;36m0.001\u001b[0m\u001b[0;34m,\u001b[0m\u001b[0;34m\u001b[0m\n",
       "\u001b[0;34m\u001b[0m    \u001b[0mbeta_1\u001b[0m\u001b[0;34m=\u001b[0m\u001b[0;36m0.9\u001b[0m\u001b[0;34m,\u001b[0m\u001b[0;34m\u001b[0m\n",
       "\u001b[0;34m\u001b[0m    \u001b[0mbeta_2\u001b[0m\u001b[0;34m=\u001b[0m\u001b[0;36m0.999\u001b[0m\u001b[0;34m,\u001b[0m\u001b[0;34m\u001b[0m\n",
       "\u001b[0;34m\u001b[0m    \u001b[0mepsilon\u001b[0m\u001b[0;34m=\u001b[0m\u001b[0;36m1e-07\u001b[0m\u001b[0;34m,\u001b[0m\u001b[0;34m\u001b[0m\n",
       "\u001b[0;34m\u001b[0m    \u001b[0mamsgrad\u001b[0m\u001b[0;34m=\u001b[0m\u001b[0;32mFalse\u001b[0m\u001b[0;34m,\u001b[0m\u001b[0;34m\u001b[0m\n",
       "\u001b[0;34m\u001b[0m    \u001b[0mname\u001b[0m\u001b[0;34m=\u001b[0m\u001b[0;34m'Adam'\u001b[0m\u001b[0;34m,\u001b[0m\u001b[0;34m\u001b[0m\n",
       "\u001b[0;34m\u001b[0m    \u001b[0;34m**\u001b[0m\u001b[0mkwargs\u001b[0m\u001b[0;34m,\u001b[0m\u001b[0;34m\u001b[0m\n",
       "\u001b[0;34m\u001b[0m\u001b[0;34m)\u001b[0m\u001b[0;34m\u001b[0m\u001b[0;34m\u001b[0m\u001b[0m\n",
       "\u001b[0;31mDocstring:\u001b[0m     \n",
       "Optimizer that implements the Adam algorithm.\n",
       "\n",
       "Adam optimization is a stochastic gradient descent method that is based on\n",
       "adaptive estimation of first-order and second-order moments.\n",
       "\n",
       "According to\n",
       "[Kingma et al., 2014](http://arxiv.org/abs/1412.6980),\n",
       "the method is \"*computationally\n",
       "efficient, has little memory requirement, invariant to diagonal rescaling of\n",
       "gradients, and is well suited for problems that are large in terms of\n",
       "data/parameters*\".\n",
       "\n",
       "Args:\n",
       "  learning_rate: A `Tensor`, floating point value, or a schedule that is a\n",
       "    `tf.keras.optimizers.schedules.LearningRateSchedule`, or a callable\n",
       "    that takes no arguments and returns the actual value to use, The\n",
       "    learning rate. Defaults to 0.001.\n",
       "  beta_1: A float value or a constant float tensor, or a callable\n",
       "    that takes no arguments and returns the actual value to use. The\n",
       "    exponential decay rate for the 1st moment estimates. Defaults to 0.9.\n",
       "  beta_2: A float value or a constant float tensor, or a callable\n",
       "    that takes no arguments and returns the actual value to use, The\n",
       "    exponential decay rate for the 2nd moment estimates. Defaults to 0.999.\n",
       "  epsilon: A small constant for numerical stability. This epsilon is\n",
       "    \"epsilon hat\" in the Kingma and Ba paper (in the formula just before\n",
       "    Section 2.1), not the epsilon in Algorithm 1 of the paper. Defaults to\n",
       "    1e-7.\n",
       "  amsgrad: Boolean. Whether to apply AMSGrad variant of this algorithm from\n",
       "    the paper \"On the Convergence of Adam and beyond\". Defaults to `False`.\n",
       "  name: Optional name for the operations created when applying gradients.\n",
       "    Defaults to `\"Adam\"`.\n",
       "  **kwargs: Keyword arguments. Allowed to be one of\n",
       "    `\"clipnorm\"` or `\"clipvalue\"`.\n",
       "    `\"clipnorm\"` (float) clips gradients by norm; `\"clipvalue\"` (float) clips\n",
       "    gradients by value.\n",
       "\n",
       "Usage:\n",
       "\n",
       ">>> opt = tf.keras.optimizers.Adam(learning_rate=0.1)\n",
       ">>> var1 = tf.Variable(10.0)\n",
       ">>> loss = lambda: (var1 ** 2)/2.0       # d(loss)/d(var1) == var1\n",
       ">>> step_count = opt.minimize(loss, [var1]).numpy()\n",
       ">>> # The first step is `-learning_rate*sign(grad)`\n",
       ">>> var1.numpy()\n",
       "9.9\n",
       "\n",
       "Reference:\n",
       "  - [Kingma et al., 2014](http://arxiv.org/abs/1412.6980)\n",
       "  - [Reddi et al., 2018](\n",
       "      https://openreview.net/pdf?id=ryQu7f-RZ) for `amsgrad`.\n",
       "\n",
       "Notes:\n",
       "\n",
       "The default value of 1e-7 for epsilon might not be a good default in\n",
       "general. For example, when training an Inception network on ImageNet a\n",
       "current good choice is 1.0 or 0.1. Note that since Adam uses the\n",
       "formulation just before Section 2.1 of the Kingma and Ba paper rather than\n",
       "the formulation in Algorithm 1, the \"epsilon\" referred to here is \"epsilon\n",
       "hat\" in the paper.\n",
       "\n",
       "The sparse implementation of this algorithm (used when the gradient is an\n",
       "IndexedSlices object, typically because of `tf.gather` or an embedding\n",
       "lookup in the forward pass) does apply momentum to variable slices even if\n",
       "they were not used in the forward pass (meaning they have a gradient equal\n",
       "to zero). Momentum decay (beta1) is also applied to the entire momentum\n",
       "accumulator. This means that the sparse behavior is equivalent to the dense\n",
       "behavior (in contrast to some momentum implementations which ignore momentum\n",
       "unless a variable slice was actually used).\n",
       "\u001b[0;31mInit docstring:\u001b[0m\n",
       "Create a new Optimizer.\n",
       "\n",
       "This must be called by the constructors of subclasses.\n",
       "Note that Optimizer instances should not bind to a single graph,\n",
       "and so shouldn't keep Tensors as member variables. Generally\n",
       "you should be able to use the _set_hyper()/state.get_hyper()\n",
       "facility instead.\n",
       "\n",
       "This class is stateful and thread-compatible.\n",
       "\n",
       "Example of custom gradient transformations:\n",
       "\n",
       "```python\n",
       "def my_gradient_transformer(grads_and_vars):\n",
       "  # Simple example, double the gradients.\n",
       "  return [(2. * g, v) for g, v in grads_and_vars]\n",
       "\n",
       "optimizer = tf.keras.optimizers.SGD(\n",
       "    1e-3, gradient_transformers=[my_gradient_transformer])\n",
       "```\n",
       "\n",
       "Args:\n",
       "  name: String. The name to use for momentum accumulator weights created\n",
       "    by the optimizer.\n",
       "  gradient_aggregator: The function to use to aggregate gradients across\n",
       "    devices (when using `tf.distribute.Strategy`). If `None`, defaults to\n",
       "    summing the gradients across devices. The function should accept and\n",
       "    return a list of `(gradient, variable)` tuples.\n",
       "  gradient_transformers: Optional. List of functions to use to transform\n",
       "    gradients before applying updates to Variables. The functions are\n",
       "    applied after `gradient_aggregator`. The functions should accept and\n",
       "    return a list of `(gradient, variable)` tuples.\n",
       "  **kwargs: keyword arguments. Allowed arguments are `clipvalue`,\n",
       "    `clipnorm`, `global_clipnorm`.\n",
       "    If `clipvalue` (float) is set, the gradient of each weight\n",
       "    is clipped to be no higher than this value.\n",
       "    If `clipnorm` (float) is set, the gradient of each weight\n",
       "    is individually clipped so that its norm is no higher than this value.\n",
       "    If `global_clipnorm` (float) is set the gradient of all weights is\n",
       "    clipped so that their global norm is no higher than this value.\n",
       "\n",
       "Raises:\n",
       "  ValueError: in case of any invalid argument.\n",
       "\u001b[0;31mFile:\u001b[0m           /opt/conda/lib/python3.8/site-packages/keras/optimizer_v2/adam.py\n",
       "\u001b[0;31mType:\u001b[0m           type\n",
       "\u001b[0;31mSubclasses:\u001b[0m     "
      ]
     },
     "metadata": {},
     "output_type": "display_data"
    }
   ],
   "source": [
    "?tf.optimizers.Adam"
   ]
  },
  {
   "cell_type": "code",
   "execution_count": 14,
   "id": "35b0f25c-9794-4e58-a02c-44dc7ceefeae",
   "metadata": {
    "tags": []
   },
   "outputs": [],
   "source": [
    "# now add in the training bits of the graph\n",
    "\n",
    "\n",
    "train_steps = 500\n",
    "\n",
    "\n",
    "# learning rate\n",
    "lr = 1e-1\n",
    "\n",
    "# gradient descent optimizer\n",
    "optimizer = tf.optimizers.SGD(lr)\n",
    "\n",
    "W = tf.Variable(tf.zeros([784,10]),name='W')\n",
    "b = tf.Variable(tf.zeros([10]),name='b')\n",
    "\n",
    "# predicted probability for each class\n",
    "def y_pred(x):\n",
    "    return tf.nn.softmax(tf.matmul(x,W) + b)\n",
    "\n",
    "# cross entropy loss function\n",
    "@tf.function\n",
    "def loss(x,y):\n",
    "    y_ = y_pred(x)\n",
    "    return tf.reduce_mean(-tf.reduce_sum(y * tf.math.log(y_), axis=[1]))"
   ]
  },
  {
   "cell_type": "code",
   "execution_count": 15,
   "id": "e6239989",
   "metadata": {
    "tags": []
   },
   "outputs": [
    {
     "data": {
      "application/vnd.jupyter.widget-view+json": {
       "model_id": "0808416337864b02b35b7f8460c41edf",
       "version_major": 2,
       "version_minor": 0
      },
      "text/plain": [
       "  0%|          | 0/500 [00:00<?, ?it/s]"
      ]
     },
     "metadata": {},
     "output_type": "display_data"
    }
   ],
   "source": [
    "with writer.as_default():\n",
    "    for i in tqdm(range(train_steps)):\n",
    "        with tf.GradientTape() as tape:\n",
    "            current_loss = loss(x_input,y_input)\n",
    "        gradients = tape.gradient(current_loss, [W, b])\n",
    "        optimizer.apply_gradients(zip(gradients, [W ,b]))\n",
    "\n",
    "        W_slice = tf.expand_dims(tf.reshape(W[:,0],[1, 28,28]),-1)\n",
    "        tf.summary.image('image', W_slice, step=i)\n"
   ]
  },
  {
   "cell_type": "code",
   "execution_count": null,
   "id": "9f437b69-36fc-48d4-a2de-d3b4a37c4e6a",
   "metadata": {},
   "outputs": [],
   "source": []
  },
  {
   "cell_type": "code",
   "execution_count": null,
   "id": "8f6e9974-f485-455f-a25a-cc1e4a48a2bd",
   "metadata": {
    "tags": []
   },
   "outputs": [],
   "source": []
  },
  {
   "cell_type": "code",
   "execution_count": null,
   "id": "2caa6ca6-c0be-4a57-9236-04d390af03bf",
   "metadata": {},
   "outputs": [],
   "source": []
  }
 ],
 "metadata": {
  "kernelspec": {
   "display_name": "Python 3 (ipykernel)",
   "language": "python",
   "name": "python3"
  },
  "language_info": {
   "codemirror_mode": {
    "name": "ipython",
    "version": 3
   },
   "file_extension": ".py",
   "mimetype": "text/x-python",
   "name": "python",
   "nbconvert_exporter": "python",
   "pygments_lexer": "ipython3",
   "version": "3.8.16"
  }
 },
 "nbformat": 4,
 "nbformat_minor": 5
}
