{
 "cells": [
  {
   "cell_type": "code",
   "execution_count": 23,
   "id": "6a49ef68",
   "metadata": {
    "tags": []
   },
   "outputs": [],
   "source": [
    "import matplotlib.pyplot as plt\n",
    "import numpy as np\n",
    "import tensorflow as tf\n",
    "from tqdm.notebook import tqdm\n",
    "np.set_printoptions(suppress=True)\n",
    "\n",
    "(x_train, y_train),(x_test, y_test) = tf.keras.datasets.mnist.load_data()\n",
    "\n",
    "y_input = tf.keras.utils.to_categorical(y_train)\n",
    "x_input = (np.reshape(x_train, (x_train.shape[0], 784)) / 255.0).astype(np.float32)"
   ]
  },
  {
   "cell_type": "code",
   "execution_count": 26,
   "id": "b1ee6112",
   "metadata": {
    "tags": []
   },
   "outputs": [],
   "source": [
    "W = tf.Variable(tf.zeros([784,10]),name='W')\n",
    "b = tf.Variable(tf.zeros([10]),name='b')\n",
    "\n",
    "# predicted probability for each class\n",
    "def y_pred(x):\n",
    "    return tf.nn.softmax(tf.matmul(x,W) + b)\n",
    "\n",
    "# cross entropy loss function\n",
    "@tf.function\n",
    "def loss(x,y):\n",
    "    y_ = y_pred(x)\n",
    "    return tf.reduce_mean(-tf.reduce_sum(y * tf.math.log(y_), axis=[1]))\n",
    "\n"
   ]
  },
  {
   "cell_type": "code",
   "execution_count": 27,
   "id": "fd3596cf",
   "metadata": {
    "tags": []
   },
   "outputs": [],
   "source": [
    "# Set up logging.\n",
    "logdir = '/home/jovyan/logs'\n",
    "writer = tf.summary.create_file_writer(logdir)\n",
    "\n",
    "\n",
    "# Bracket the function call with trace_on and trace_export\n",
    "\n",
    "tf.summary.trace_on()\n",
    "# Call only one tf.function when tracing.\n",
    "z = loss(x_input, y_input)\n",
    "with writer.as_default():\n",
    "    tf.summary.trace_export(name='graph',step=0)\n"
   ]
  },
  {
   "cell_type": "code",
   "execution_count": 33,
   "id": "a77a141c",
   "metadata": {
    "tags": []
   },
   "outputs": [],
   "source": [
    "# now add in the training bits of the graph\n",
    "\n",
    "\n",
    "train_steps = 500\n",
    "\n",
    "\n",
    "# learning rate\n",
    "lr = 1e-1\n",
    "\n",
    "# gradient descent optimizer\n",
    "optimizer = tf.optimizers.SGD(lr)\n",
    "\n"
   ]
  },
  {
   "cell_type": "code",
   "execution_count": 34,
   "id": "73980d25",
   "metadata": {
    "tags": []
   },
   "outputs": [
    {
     "data": {
      "application/vnd.jupyter.widget-view+json": {
       "model_id": "d9d8949e90ca401dbcce16916656aa40",
       "version_major": 2,
       "version_minor": 0
      },
      "text/plain": [
       "  0%|          | 0/500 [00:00<?, ?it/s]"
      ]
     },
     "metadata": {},
     "output_type": "display_data"
    }
   ],
   "source": [
    "\n",
    "with writer.as_default():\n",
    "    for i in tqdm(range(train_steps)):\n",
    "        with tf.GradientTape() as tape:\n",
    "            current_loss = loss(x_input,y_input)\n",
    "        gradients = tape.gradient(current_loss, [W, b])\n",
    "        optimizer.apply_gradients(zip(gradients, [W ,b]))\n",
    "        tf.summary.scalar('loss', current_loss, step=i)\n",
    "\n"
   ]
  },
  {
   "cell_type": "code",
   "execution_count": 38,
   "id": "3ea36c5b-9f3e-401b-ac32-b29825e08f7a",
   "metadata": {
    "tags": []
   },
   "outputs": [],
   "source": [
    "# now add in the training bits of the graph\n",
    "\n",
    "\n",
    "train_steps = 500\n",
    "\n",
    "\n",
    "# learning rate\n",
    "lr = 1e-3\n",
    "\n",
    "# gradient descent optimizer\n",
    "optimizer = tf.optimizers.Adam(lr)\n",
    "\n",
    "W = tf.Variable(tf.zeros([784,10]),name='W')\n",
    "b = tf.Variable(tf.zeros([10]),name='b')\n",
    "\n",
    "# predicted probability for each class\n",
    "def y_pred(x):\n",
    "    return tf.nn.softmax(tf.matmul(x,W) + b)\n",
    "\n",
    "# cross entropy loss function\n",
    "@tf.function\n",
    "def loss(x,y):\n",
    "    y_ = y_pred(x)\n",
    "    return tf.reduce_mean(-tf.reduce_sum(y * tf.math.log(y_), axis=[1]))"
   ]
  },
  {
   "cell_type": "code",
   "execution_count": 39,
   "id": "d25fa2a9-700d-473d-9496-768faefdf11a",
   "metadata": {
    "tags": []
   },
   "outputs": [
    {
     "data": {
      "application/vnd.jupyter.widget-view+json": {
       "model_id": "1bd654850afa44e998014e5120e279c2",
       "version_major": 2,
       "version_minor": 0
      },
      "text/plain": [
       "  0%|          | 0/500 [00:00<?, ?it/s]"
      ]
     },
     "metadata": {},
     "output_type": "display_data"
    }
   ],
   "source": [
    "\n",
    "pbar = tqdm(range(train_steps))\n",
    "with writer.as_default():\n",
    "    for i in pbar:\n",
    "        with tf.GradientTape() as tape:\n",
    "            current_loss = loss(x_input,y_input)\n",
    "        gradients = tape.gradient(current_loss, [W, b])\n",
    "        optimizer.apply_gradients(zip(gradients, [W ,b]))\n",
    "        tf.summary.scalar('lossadam', current_loss, step=i)\n",
    "        pbar.set_description_str(str(current_loss.numpy()))\n"
   ]
  },
  {
   "cell_type": "code",
   "execution_count": null,
   "id": "ffc8edbe-d74f-46fb-a359-c81649e50199",
   "metadata": {},
   "outputs": [],
   "source": []
  },
  {
   "cell_type": "code",
   "execution_count": 43,
   "id": "35b0f25c-9794-4e58-a02c-44dc7ceefeae",
   "metadata": {
    "tags": []
   },
   "outputs": [],
   "source": [
    "# now add in the training bits of the graph\n",
    "\n",
    "\n",
    "train_steps = 500\n",
    "\n",
    "\n",
    "# learning rate\n",
    "lr = 1e-1\n",
    "\n",
    "# gradient descent optimizer\n",
    "optimizer = tf.optimizers.SGD(lr)\n",
    "\n",
    "W = tf.Variable(tf.zeros([784,10]),name='W')\n",
    "b = tf.Variable(tf.zeros([10]),name='b')\n",
    "\n",
    "# predicted probability for each class\n",
    "def y_pred(x):\n",
    "    return tf.nn.softmax(tf.matmul(x,W) + b)\n",
    "\n",
    "# cross entropy loss function\n",
    "@tf.function\n",
    "def loss(x,y):\n",
    "    y_ = y_pred(x)\n",
    "    return tf.reduce_mean(-tf.reduce_sum(y * tf.math.log(y_), axis=[1]))"
   ]
  },
  {
   "cell_type": "code",
   "execution_count": 44,
   "id": "e6239989",
   "metadata": {
    "tags": []
   },
   "outputs": [
    {
     "data": {
      "application/vnd.jupyter.widget-view+json": {
       "model_id": "dfa96fb457c24a799a838034d6fa15b2",
       "version_major": 2,
       "version_minor": 0
      },
      "text/plain": [
       "  0%|          | 0/500 [00:00<?, ?it/s]"
      ]
     },
     "metadata": {},
     "output_type": "display_data"
    }
   ],
   "source": [
    "with writer.as_default():\n",
    "    for i in tqdm(range(train_steps)):\n",
    "        with tf.GradientTape() as tape:\n",
    "            current_loss = loss(x_input,y_input)\n",
    "        gradients = tape.gradient(current_loss, [W, b])\n",
    "        optimizer.apply_gradients(zip(gradients, [W ,b]))\n",
    "\n",
    "        W_slice = tf.expand_dims(tf.reshape(W[:,0],[1, 28,28]),-1)\n",
    "        tf.summary.image('image', W_slice, step=i)\n"
   ]
  },
  {
   "cell_type": "code",
   "execution_count": null,
   "id": "9f437b69-36fc-48d4-a2de-d3b4a37c4e6a",
   "metadata": {},
   "outputs": [],
   "source": []
  },
  {
   "cell_type": "code",
   "execution_count": null,
   "id": "8f6e9974-f485-455f-a25a-cc1e4a48a2bd",
   "metadata": {
    "tags": []
   },
   "outputs": [],
   "source": []
  },
  {
   "cell_type": "code",
   "execution_count": null,
   "id": "2caa6ca6-c0be-4a57-9236-04d390af03bf",
   "metadata": {},
   "outputs": [],
   "source": []
  }
 ],
 "metadata": {
  "kernelspec": {
   "display_name": "Python 3 (ipykernel)",
   "language": "python",
   "name": "python3"
  },
  "language_info": {
   "codemirror_mode": {
    "name": "ipython",
    "version": 3
   },
   "file_extension": ".py",
   "mimetype": "text/x-python",
   "name": "python",
   "nbconvert_exporter": "python",
   "pygments_lexer": "ipython3",
   "version": "3.8.16"
  }
 },
 "nbformat": 4,
 "nbformat_minor": 5
}
