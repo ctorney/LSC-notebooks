{
  "nbformat": 4,
  "nbformat_minor": 0,
  "metadata": {
    "colab": {
      "name": "shallow_mnist.ipynb",
      "provenance": [],
      "collapsed_sections": []
    },
    "kernelspec": {
      "name": "python3",
      "display_name": "Python 3"
    },
    "accelerator": "GPU"
  },
  "cells": [
    {
      "cell_type": "markdown",
      "metadata": {
        "id": "JKgiJppBOPbZ"
      },
      "source": [
        "## Load the necessary libraries"
      ]
    },
    {
      "cell_type": "code",
      "metadata": {
        "id": "7UMiqKnkOOQT"
      },
      "source": [
        "import matplotlib.pyplot as plt\n",
        "import numpy as np\n",
        "import tensorflow as tf\n",
        "\n",
        "np.set_printoptions(suppress=True)"
      ],
      "execution_count": null,
      "outputs": []
    },
    {
      "cell_type": "markdown",
      "metadata": {
        "id": "D2le8oBvOUe5"
      },
      "source": [
        "## Download the MNIST dataset using Keras"
      ]
    },
    {
      "cell_type": "code",
      "metadata": {
        "id": "7OJUV960Itp6",
        "outputId": "093460b8-c545-4160-cb5c-84eba9afb416",
        "colab": {
          "base_uri": "https://localhost:8080/",
          "height": 52
        }
      },
      "source": [
        "(x_train, y_train),(x_test, y_test) = tf.keras.datasets.mnist.load_data()\n"
      ],
      "execution_count": null,
      "outputs": [
        {
          "output_type": "stream",
          "text": [
            "Downloading data from https://storage.googleapis.com/tensorflow/tf-keras-datasets/mnist.npz\n",
            "11493376/11490434 [==============================] - 0s 0us/step\n"
          ],
          "name": "stdout"
        }
      ]
    },
    {
      "cell_type": "code",
      "metadata": {
        "id": "WUWsusa0I2hz",
        "outputId": "3eb23259-d5d3-4fe4-88c3-a54b8f193160",
        "colab": {
          "base_uri": "https://localhost:8080/",
          "height": 555
        }
      },
      "source": [
        "help(tf.keras.datasets.mnist.load_data)"
      ],
      "execution_count": null,
      "outputs": [
        {
          "output_type": "stream",
          "text": [
            "Help on function load_data in module tensorflow.python.keras.datasets.mnist:\n",
            "\n",
            "load_data(path='mnist.npz')\n",
            "    Loads the [MNIST dataset](http://yann.lecun.com/exdb/mnist/).\n",
            "    \n",
            "    This is a dataset of 60,000 28x28 grayscale images of the 10 digits,\n",
            "    along with a test set of 10,000 images.\n",
            "    More info can be found at the\n",
            "    (MNIST homepage)[http://yann.lecun.com/exdb/mnist/].\n",
            "    \n",
            "    \n",
            "    Arguments:\n",
            "        path: path where to cache the dataset locally\n",
            "            (relative to ~/.keras/datasets).\n",
            "    \n",
            "    Returns:\n",
            "        Tuple of Numpy arrays: `(x_train, y_train), (x_test, y_test)`.\n",
            "    \n",
            "        **x_train, x_test**: uint8 arrays of grayscale image data with shapes\n",
            "          (num_samples, 28, 28).\n",
            "    \n",
            "        **y_train, y_test**: uint8 arrays of digit labels (integers in range 0-9)\n",
            "          with shapes (num_samples,).\n",
            "    \n",
            "    License:\n",
            "        Yann LeCun and Corinna Cortes hold the copyright of MNIST dataset,\n",
            "        which is a derivative work from original NIST datasets.\n",
            "        MNIST dataset is made available under the terms of the\n",
            "        [Creative Commons Attribution-Share Alike 3.0 license.](\n",
            "        https://creativecommons.org/licenses/by-sa/3.0/)\n",
            "\n"
          ],
          "name": "stdout"
        }
      ]
    },
    {
      "cell_type": "code",
      "metadata": {
        "id": "oew1UUP7I80b",
        "outputId": "fe2df7c2-8625-4144-ef06-b156bc99e710",
        "colab": {
          "base_uri": "https://localhost:8080/",
          "height": 86
        }
      },
      "source": [
        "print ('x_train samples = ' + str(x_train.shape))\n",
        "print ('y_train samples = ' + str(y_train.shape))\n",
        "\n",
        "print ('x_test samples = ' + str(x_test.shape))\n",
        "print ('y_test samples = ' + str(y_test.shape))"
      ],
      "execution_count": null,
      "outputs": [
        {
          "output_type": "stream",
          "text": [
            "x_train samples = (60000, 28, 28)\n",
            "y_train samples = (60000,)\n",
            "x_test samples = (10000, 28, 28)\n",
            "y_test samples = (10000,)\n"
          ],
          "name": "stdout"
        }
      ]
    },
    {
      "cell_type": "markdown",
      "metadata": {
        "id": "LWb-hI76Oamg"
      },
      "source": [
        "## Plot some example images"
      ]
    },
    {
      "cell_type": "code",
      "metadata": {
        "id": "L5vwrYQjJFwc",
        "outputId": "8b1f4955-fdfa-45d0-82af-ebcd7fdde2dc",
        "colab": {
          "base_uri": "https://localhost:8080/",
          "height": 281
        }
      },
      "source": [
        "i=1000\n",
        "label = y_train[i]\n",
        "image = x_train[i]\n",
        "plt.title('Number %d' % (label))\n",
        "plt.imshow(image)\n",
        "plt.show()"
      ],
      "execution_count": null,
      "outputs": [
        {
          "output_type": "display_data",
          "data": {
            "image/png": "[encoded data removed]",
            "text/plain": [
              "<Figure size 432x288 with 1 Axes>"
            ]
          },
          "metadata": {
            "tags": [],
            "needs_background": "light"
          }
        }
      ]
    },
    {
      "cell_type": "markdown",
      "metadata": {
        "id": "UmWdkq80Od_c"
      },
      "source": [
        "## Preprocess the data ready for tensorflow"
      ]
    },
    {
      "cell_type": "code",
      "metadata": {
        "id": "zMa_0RUfJSV1"
      },
      "source": [
        "y_input = tf.keras.utils.to_categorical(y_train)\n",
        "x_input = (np.reshape(x_train, (x_train.shape[0], 784)) / 255.0).astype(np.float32)"
      ],
      "execution_count": null,
      "outputs": []
    },
    {
      "cell_type": "code",
      "metadata": {
        "id": "wE9YY6maJtXk",
        "outputId": "c374f2d5-f9ec-4182-edfa-5a053a9cda27",
        "colab": {
          "base_uri": "https://localhost:8080/",
          "height": 52
        }
      },
      "source": [
        "print ('x_input samples = ' + str(x_input.shape))\n",
        "print ('y_input samples = ' + str(y_input.shape))"
      ],
      "execution_count": null,
      "outputs": [
        {
          "output_type": "stream",
          "text": [
            "x_input samples = (60000, 784)\n",
            "y_input samples = (60000, 10)\n"
          ],
          "name": "stdout"
        }
      ]
    },
    {
      "cell_type": "code",
      "metadata": {
        "id": "U0wIXQ9RJ4uM",
        "outputId": "03f02b3e-7e94-4e07-e6fe-ffb6194a2c47",
        "colab": {
          "base_uri": "https://localhost:8080/",
          "height": 34
        }
      },
      "source": [
        "x_input[0].dtype"
      ],
      "execution_count": null,
      "outputs": [
        {
          "output_type": "execute_result",
          "data": {
            "text/plain": [
              "dtype('float32')"
            ]
          },
          "metadata": {
            "tags": []
          },
          "execution_count": 17
        }
      ]
    },
    {
      "cell_type": "markdown",
      "metadata": {
        "id": "p_eRHO2OOjp3"
      },
      "source": [
        "## Create the tensorflow graph"
      ]
    },
    {
      "cell_type": "code",
      "metadata": {
        "id": "Kx9m8VH_J-T1"
      },
      "source": [
        "W = tf.Variable(tf.zeros([784,10]))\n",
        "b = tf.Variable(tf.zeros([10]))"
      ],
      "execution_count": null,
      "outputs": []
    },
    {
      "cell_type": "markdown",
      "metadata": {
        "id": "Sssh2qugOpE5"
      },
      "source": [
        "## Set-up the multinomial logistic regression"
      ]
    },
    {
      "cell_type": "code",
      "metadata": {
        "id": "6en-2wR-KU20"
      },
      "source": [
        "# predicted probability for each class\n",
        "def y_pred(x):\n",
        "    return tf.nn.softmax(tf.matmul(x,W) + b)\n",
        "\n",
        "# cross entropy loss function\n",
        "def loss(x,y):\n",
        "    y_ = y_pred(x)\n",
        "    return tf.reduce_mean(-tf.reduce_sum(y * tf.math.log(y_), axis=[1]))"
      ],
      "execution_count": null,
      "outputs": []
    },
    {
      "cell_type": "markdown",
      "metadata": {
        "id": "Hj3YquijPcVR"
      },
      "source": [
        "## Set-up the training routine"
      ]
    },
    {
      "cell_type": "code",
      "metadata": {
        "id": "OPOgRIiAK5ZY"
      },
      "source": [
        "\n",
        "train_steps = 2500\n",
        "\n",
        "\n",
        "# learning rate\n",
        "lr = 1e-1\n",
        "\n",
        "# gradient descent optimizer\n",
        "optimizer = tf.optimizers.SGD(lr)\n",
        "\n"
      ],
      "execution_count": null,
      "outputs": []
    },
    {
      "cell_type": "markdown",
      "metadata": {
        "id": "h8V5f36yPfYH"
      },
      "source": [
        "## Create a session and run the training"
      ]
    },
    {
      "cell_type": "code",
      "metadata": {
        "id": "ILHQOx0kLcLF",
        "outputId": "7db595ac-8212-4768-f0bf-58e034e1ad60",
        "colab": {
          "base_uri": "https://localhost:8080/",
          "height": 451
        }
      },
      "source": [
        "\n",
        "for i in range(train_steps):\n",
        "    with tf.GradientTape() as tape:\n",
        "        current_loss = loss(x_input,y_input)\n",
        "    gradients = tape.gradient(current_loss, [W, b])\n",
        "    optimizer.apply_gradients(zip(gradients, [W ,b]))\n",
        "    if i%100 == 0:\n",
        "        print('Training Step:' + str(i) + '  Loss = ' + str(current_loss))"
      ],
      "execution_count": null,
      "outputs": [
        {
          "output_type": "stream",
          "text": [
            "Training Step:0  Loss = tf.Tensor(2.3025854, shape=(), dtype=float32)\n",
            "Training Step:100  Loss = tf.Tensor(0.6087094, shape=(), dtype=float32)\n",
            "Training Step:200  Loss = tf.Tensor(0.48937273, shape=(), dtype=float32)\n",
            "Training Step:300  Loss = tf.Tensor(0.44037214, shape=(), dtype=float32)\n",
            "Training Step:400  Loss = tf.Tensor(0.412158, shape=(), dtype=float32)\n",
            "Training Step:500  Loss = tf.Tensor(0.3932503, shape=(), dtype=float32)\n",
            "Training Step:600  Loss = tf.Tensor(0.37943116, shape=(), dtype=float32)\n",
            "Training Step:700  Loss = tf.Tensor(0.3687482, shape=(), dtype=float32)\n",
            "Training Step:800  Loss = tf.Tensor(0.36015943, shape=(), dtype=float32)\n",
            "Training Step:900  Loss = tf.Tensor(0.35305175, shape=(), dtype=float32)\n",
            "Training Step:1000  Loss = tf.Tensor(0.34703794, shape=(), dtype=float32)\n",
            "Training Step:1100  Loss = tf.Tensor(0.3418597, shape=(), dtype=float32)\n",
            "Training Step:1200  Loss = tf.Tensor(0.33733717, shape=(), dtype=float32)\n",
            "Training Step:1300  Loss = tf.Tensor(0.33334082, shape=(), dtype=float32)\n",
            "Training Step:1400  Loss = tf.Tensor(0.3297744, shape=(), dtype=float32)\n",
            "Training Step:1500  Loss = tf.Tensor(0.32656494, shape=(), dtype=float32)\n",
            "Training Step:1600  Loss = tf.Tensor(0.32365572, shape=(), dtype=float32)\n",
            "Training Step:1700  Loss = tf.Tensor(0.32100195, shape=(), dtype=float32)\n",
            "Training Step:1800  Loss = tf.Tensor(0.3185678, shape=(), dtype=float32)\n",
            "Training Step:1900  Loss = tf.Tensor(0.3163241, shape=(), dtype=float32)\n",
            "Training Step:2000  Loss = tf.Tensor(0.31424686, shape=(), dtype=float32)\n",
            "Training Step:2100  Loss = tf.Tensor(0.31231618, shape=(), dtype=float32)\n",
            "Training Step:2200  Loss = tf.Tensor(0.31051522, shape=(), dtype=float32)\n",
            "Training Step:2300  Loss = tf.Tensor(0.30882984, shape=(), dtype=float32)\n",
            "Training Step:2400  Loss = tf.Tensor(0.30724806, shape=(), dtype=float32)\n"
          ],
          "name": "stdout"
        }
      ]
    },
    {
      "cell_type": "markdown",
      "metadata": {
        "id": "7T3WjSQbPkIQ"
      },
      "source": [
        "## Check the accuracy on the training data"
      ]
    },
    {
      "cell_type": "code",
      "metadata": {
        "id": "g7KOntNdL5Up",
        "outputId": "51a7a1f4-4a90-49ec-cba5-9977693c9004",
        "colab": {
          "base_uri": "https://localhost:8080/",
          "height": 52
        }
      },
      "source": [
        "y_prob = y_pred(x_input).numpy()\n",
        "\n",
        "print(y_prob.shape)\n",
        "y_prediction = np.argmax(y_prob,axis=-1)\n",
        "print('train accuracy: ', np.sum(y_prediction==y_train)/len(y_train))"
      ],
      "execution_count": null,
      "outputs": [
        {
          "output_type": "stream",
          "text": [
            "(60000, 10)\n",
            "train accuracy:  0.91545\n"
          ],
          "name": "stdout"
        }
      ]
    },
    {
      "cell_type": "markdown",
      "metadata": {
        "id": "GJ3Rs3XhPnjB"
      },
      "source": [
        "## Check the accuracy on the test data"
      ]
    },
    {
      "cell_type": "code",
      "metadata": {
        "id": "j0eIzCeBOtch",
        "outputId": "e29f9c4f-6972-462a-fe16-e8dbea7f2467",
        "colab": {
          "base_uri": "https://localhost:8080/",
          "height": 52
        }
      },
      "source": [
        "x_test_input = (np.reshape(x_test, (x_test.shape[0], 784)) / 255.0).astype(np.float32)\n",
        "\n",
        "y_prob = y_pred(x_test_input).numpy()\n",
        "\n",
        "print(y_prob.shape)\n",
        "y_prediction = np.argmax(y_prob,axis=-1)\n",
        "print('test accuracy: ', np.sum(y_prediction==y_test)/len(y_test))"
      ],
      "execution_count": null,
      "outputs": [
        {
          "output_type": "stream",
          "text": [
            "(10000, 10)\n",
            "test accuracy:  0.9184\n"
          ],
          "name": "stdout"
        }
      ]
    },
    {
      "cell_type": "markdown",
      "metadata": {
        "id": "NNXjTivyPq6s"
      },
      "source": [
        "## Look at predictions for different samples"
      ]
    },
    {
      "cell_type": "code",
      "metadata": {
        "id": "fdahROYoPM-O",
        "outputId": "ea867ea9-57b6-4f98-d099-80b614fe7326",
        "colab": {
          "base_uri": "https://localhost:8080/",
          "height": 281
        }
      },
      "source": [
        "i=1645\n",
        "\n",
        "label = y_test[i]\n",
        "image = x_test[i]\n",
        "plt.title('True: %d, Predicted: %d (%d%% certainty)' % (label,y_prob[i].argmax(),100*y_prob[i,y_prob[i].argmax()]))\n",
        "plt.imshow(image)\n",
        "plt.show()"
      ],
      "execution_count": null,
      "outputs": [
        {
          "output_type": "display_data",
          "data": {
            "image/png": "[encoded data removed]",
            "text/plain": [
              "<Figure size 432x288 with 1 Axes>"
            ]
          },
          "metadata": {
            "tags": [],
            "needs_background": "light"
          }
        }
      ]
    },
    {
      "cell_type": "markdown",
      "metadata": {
        "id": "daG_mTOdPuxf"
      },
      "source": [
        "## Plot out the learnt weights for each pixel"
      ]
    },
    {
      "cell_type": "code",
      "metadata": {
        "id": "MExCprSnPefd",
        "outputId": "e68d0f32-791d-4e6b-ba97-6ad80ea5476d",
        "colab": {
          "base_uri": "https://localhost:8080/",
          "height": 136
        }
      },
      "source": [
        "plt.figure(figsize=(18,5))\n",
        "for i in range(10):\n",
        "    plt.subplot(1, 10, i+1)\n",
        "    weight = W.numpy()[:,i]\n",
        "    plt.title(i)\n",
        "    plt.imshow(weight.reshape([28,28]),vmin=-0.5,vmax=0.5, cmap=plt.get_cmap('seismic'))\n",
        "    frame1 = plt.gca()\n",
        "    frame1.axes.get_xaxis().set_visible(False)\n",
        "    frame1.axes.get_yaxis().set_visible(False)\n",
        "plt.show()"
      ],
      "execution_count": null,
      "outputs": [
        {
          "output_type": "display_data",
          "data": {
            "image/png": "[encoded data removed]",
            "text/plain": [
              "<Figure size 1296x360 with 10 Axes>"
            ]
          },
          "metadata": {
            "tags": [],
            "needs_background": "light"
          }
        }
      ]
    },
    {
      "cell_type": "code",
      "metadata": {
        "id": "396GmRH4QJbi"
      },
      "source": [
        ""
      ],
      "execution_count": null,
      "outputs": []
    }
  ]
}