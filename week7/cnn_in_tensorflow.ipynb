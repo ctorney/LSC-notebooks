{
 "cells": [
  {
   "cell_type": "code",
   "execution_count": 1,
   "metadata": {
    "colab": {},
    "colab_type": "code",
    "id": "Z-r_tI-3IhsP",
    "tags": []
   },
   "outputs": [],
   "source": [
    "import matplotlib.pyplot as plt\n",
    "import numpy as np\n",
    "import tensorflow as tf\n",
    "\n",
    "np.set_printoptions(suppress=True)"
   ]
  },
  {
   "cell_type": "markdown",
   "metadata": {
    "colab_type": "text",
    "id": "UuF0n9ZQFyH2"
   },
   "source": [
    "## Load the cifar dataset"
   ]
  },
  {
   "cell_type": "code",
   "execution_count": 2,
   "metadata": {
    "colab": {
     "base_uri": "https://localhost:8080/",
     "height": 52
    },
    "colab_type": "code",
    "id": "jNeH_uKFIled",
    "outputId": "99079720-23fc-4380-9ebd-50a45eca973b",
    "tags": []
   },
   "outputs": [],
   "source": [
    "(x_train, y_train),(x_test, y_test) = tf.keras.datasets.cifar10.load_data()\n",
    "labels=['airplane','automobile','bird','cat','deer','dog','frog','horse','ship','truck']"
   ]
  },
  {
   "cell_type": "markdown",
   "metadata": {
    "colab_type": "text",
    "id": "Bk9Q8IcPGCbO"
   },
   "source": [
    "## Normalize the inputs and reshape the labels"
   ]
  },
  {
   "cell_type": "code",
   "execution_count": 3,
   "metadata": {
    "colab": {},
    "colab_type": "code",
    "id": "1ptMZDWdInrO",
    "tags": []
   },
   "outputs": [],
   "source": [
    "y_input = tf.keras.utils.to_categorical(y_train[:10000])\n",
    "x_input = (x_train[:10000]  / 255.0).astype(np.float32)\n"
   ]
  },
  {
   "cell_type": "markdown",
   "metadata": {
    "colab_type": "text",
    "id": "bp_HciV2GVLG"
   },
   "source": [
    "## Now we'll build the convolutional layer"
   ]
  },
  {
   "cell_type": "code",
   "execution_count": 4,
   "metadata": {
    "colab": {},
    "colab_type": "code",
    "id": "-z90d3mTIsAO",
    "tags": []
   },
   "outputs": [],
   "source": [
    "\n",
    "conv_layer = tf.keras.layers.Conv2D(filters=16, kernel_size=(3,3),activation=tf.nn.relu,padding='same')\n",
    "flat_layer = tf.keras.layers.Flatten()\n",
    "dense_layer = tf.keras.layers.Dense(units=512, activation=tf.nn.relu)\n",
    "logits_layer = tf.keras.layers.Dense(units=10,activation=tf.nn.softmax)\n",
    "\n",
    "def predict(x):\n",
    "    # input Layer\n",
    "    x = conv_layer(x)\n",
    "    x = flat_layer(x)\n",
    "    x = dense_layer(x)\n",
    "    output_layer = logits_layer(x)    \n",
    "    return output_layer\n",
    "\n"
   ]
  },
  {
   "cell_type": "markdown",
   "metadata": {
    "colab_type": "text",
    "id": "7821RL9mGcJL"
   },
   "source": [
    "## Create the loss"
   ]
  },
  {
   "cell_type": "code",
   "execution_count": 5,
   "metadata": {
    "colab": {},
    "colab_type": "code",
    "id": "vwwXUY71I7PR",
    "tags": []
   },
   "outputs": [],
   "source": [
    "@tf.function\n",
    "def loss(x,y):\n",
    "    y_ = predict(x)\n",
    "    cross_entropy = tf.reduce_mean(-tf.reduce_sum(y * tf.math.log(y_), axis=[1]))\n",
    "    return cross_entropy"
   ]
  },
  {
   "cell_type": "markdown",
   "metadata": {
    "colab_type": "text",
    "id": "WozuwZz8GgS8"
   },
   "source": [
    "## Set up the training parameters"
   ]
  },
  {
   "cell_type": "code",
   "execution_count": 6,
   "metadata": {
    "colab": {},
    "colab_type": "code",
    "id": "qAvKjNfOI7lm",
    "tags": []
   },
   "outputs": [],
   "source": [
    "lr = 0.0001\n",
    "train_steps = 500\n",
    "# we'll use the Adam optimizer instead of gradient descent.\n",
    "optimizer = tf.optimizers.Adam(lr)"
   ]
  },
  {
   "cell_type": "markdown",
   "metadata": {
    "colab_type": "text",
    "id": "jLEGv0krGk_i"
   },
   "source": [
    "## Create a session and run the training"
   ]
  },
  {
   "cell_type": "code",
   "execution_count": 12,
   "metadata": {
    "colab": {
     "base_uri": "https://localhost:8080/",
     "height": 104
    },
    "colab_type": "code",
    "id": "znLTkQ4mI903",
    "outputId": "5fee38ac-1ec0-4e7e-b40d-cc4ff8b74de9",
    "tags": []
   },
   "outputs": [
    {
     "name": "stdout",
     "output_type": "stream",
     "text": [
      "Training Step:0 Loss = tf.Tensor(0.9227612, shape=(), dtype=float32)\n",
      "Training Step:100 Loss = tf.Tensor(0.70007384, shape=(), dtype=float32)\n",
      "Training Step:200 Loss = tf.Tensor(0.53730947, shape=(), dtype=float32)\n",
      "Training Step:300 Loss = tf.Tensor(0.41736603, shape=(), dtype=float32)\n",
      "Training Step:400 Loss = tf.Tensor(0.3198933, shape=(), dtype=float32)\n"
     ]
    }
   ],
   "source": [
    "for i in range(train_steps):\n",
    "    with tf.GradientTape() as tape:\n",
    "        current_loss = loss(x_input,y_input)\n",
    "        gradients = tape.gradient(current_loss, tape.watched_variables())\n",
    "        optimizer.apply_gradients(zip(gradients, tape.watched_variables()))\n",
    "        if i%100 == 0:\n",
    "            print('Training Step:' + str(i) + ' Loss = ' + str(current_loss))\n"
   ]
  },
  {
   "cell_type": "code",
   "execution_count": 13,
   "metadata": {
    "colab": {
     "base_uri": "https://localhost:8080/",
     "height": 52
    },
    "colab_type": "code",
    "id": "1hPDDdE_JCSV",
    "outputId": "3940fabc-6dca-4eae-993f-3fa60334892a",
    "tags": []
   },
   "outputs": [
    {
     "name": "stdout",
     "output_type": "stream",
     "text": [
      "(10000, 10)\n",
      "train accuracy:  0.5127\n"
     ]
    }
   ],
   "source": [
    "x_test_input = (x_test  / 255.0).astype(np.float32)\n",
    "\n",
    "y_prob = predict(x_test_input).numpy()\n",
    "\n",
    "print(y_prob.shape)\n",
    "y_pred = np.argmax(y_prob,axis=-1)\n",
    "print('train accuracy: ', np.sum(y_pred==y_test[:,0])/len(y_test))"
   ]
  },
  {
   "cell_type": "code",
   "execution_count": 14,
   "metadata": {
    "colab": {
     "base_uri": "https://localhost:8080/",
     "height": 173
    },
    "colab_type": "code",
    "id": "Nw_ybWyQJS5k",
    "outputId": "aaa1c971-0a7b-4607-a74d-4a2ba49eaf80",
    "tags": []
   },
   "outputs": [
    {
     "data": {
      "image/png": "[encoded data removed]",
      "text/plain": [
       "<Figure size 200x200 with 1 Axes>"
      ]
     },
     "metadata": {},
     "output_type": "display_data"
    }
   ],
   "source": [
    "i=840\n",
    "\n",
    "label = y_test[i][0]\n",
    "image = x_test[i]\n",
    "plt.figure(figsize=(2,2))\n",
    "plt.grid(False)\n",
    "plt.title('True: %s, Predicted: %s (%d%% certainty)' % (labels[int(label)],labels[y_prob[i].argmax()],100*y_prob[i,y_prob[i].argmax()]))\n",
    "plt.imshow(image)\n",
    "plt.show()"
   ]
  },
  {
   "cell_type": "code",
   "execution_count": null,
   "metadata": {},
   "outputs": [],
   "source": []
  }
 ],
 "metadata": {
  "accelerator": "GPU",
  "colab": {
   "collapsed_sections": [],
   "name": "cnn_in_tensorflow.ipynb",
   "provenance": []
  },
  "kernelspec": {
   "display_name": "sagemaker-distribution:Python",
   "language": "python",
   "name": "conda-env-sagemaker-distribution-py"
  },
  "language_info": {
   "codemirror_mode": {
    "name": "ipython",
    "version": 3
   },
   "file_extension": ".py",
   "mimetype": "text/x-python",
   "name": "python",
   "nbconvert_exporter": "python",
   "pygments_lexer": "ipython3",
   "version": "3.10.14"
  }
 },
 "nbformat": 4,
 "nbformat_minor": 4
}
